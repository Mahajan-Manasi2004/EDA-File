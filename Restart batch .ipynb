{
 "cells": [
  {
   "cell_type": "markdown",
   "id": "8555cc9e-6fad-4f51-af9c-b826bbea7c26",
   "metadata": {},
   "source": [
    "# Comment"
   ]
  },
  {
   "cell_type": "code",
   "execution_count": 2,
   "id": "5348af26-666e-4683-bfff-ff04825e95e3",
   "metadata": {},
   "outputs": [
    {
     "data": {
      "text/plain": [
       "1000"
      ]
     },
     "execution_count": 2,
     "metadata": {},
     "output_type": "execute_result"
    }
   ],
   "source": [
    "beauty_product = 20\n",
    "price = 50\n",
    "\n",
    "total= beauty_product*price\n",
    "total #paid"
   ]
  },
  {
   "cell_type": "code",
   "execution_count": 3,
   "id": "bf374d77-7f83-49c5-b777-522e57230756",
   "metadata": {},
   "outputs": [
    {
     "data": {
      "text/plain": [
       "'tmvttmvttmvttmvttmvttmvttmvttmvttmvttmvttmvttmvttmvttmvttmvttmvttmvttmvttmvttmvt'"
      ]
     },
     "execution_count": 3,
     "metadata": {},
     "output_type": "execute_result"
    }
   ],
   "source": [
    "school_name = 'tmvt'\n",
    "\n",
    "student_number = 20\n",
    "\n",
    "total = school_name*student_number    #total number of student\n",
    "total # paid"
   ]
  },
  {
   "cell_type": "code",
   "execution_count": 4,
   "id": "3d814447-9067-4573-8e5b-25b97e4193af",
   "metadata": {},
   "outputs": [
    {
     "data": {
      "text/plain": [
       "'hello india'"
      ]
     },
     "execution_count": 4,
     "metadata": {},
     "output_type": "execute_result"
    }
   ],
   "source": [
    "xyz = 'hello india'\n",
    "xyz"
   ]
  },
  {
   "cell_type": "code",
   "execution_count": 5,
   "id": "f3726a91-dc0c-4c9a-8da5-6163fc5441f9",
   "metadata": {},
   "outputs": [
    {
     "name": "stdout",
     "output_type": "stream",
     "text": [
      "hello india\n"
     ]
    },
    {
     "data": {
      "text/plain": [
       "'tmvttmvttmvttmvttmvttmvttmvttmvttmvttmvttmvttmvttmvttmvttmvttmvttmvttmvttmvttmvt'"
      ]
     },
     "execution_count": 5,
     "metadata": {},
     "output_type": "execute_result"
    }
   ],
   "source": [
    "print(xyz)\n",
    "total"
   ]
  },
  {
   "cell_type": "code",
   "execution_count": 6,
   "id": "484f0206-2430-4489-8fd8-158696fa3aa0",
   "metadata": {},
   "outputs": [
    {
     "data": {
      "text/plain": [
       "'we are engineers'"
      ]
     },
     "execution_count": 6,
     "metadata": {},
     "output_type": "execute_result"
    }
   ],
   "source": [
    "txt = 'we are engineers'\n",
    "txt"
   ]
  },
  {
   "cell_type": "code",
   "execution_count": 7,
   "id": "324019a1-29a2-491f-838e-2477a501d387",
   "metadata": {},
   "outputs": [
    {
     "data": {
      "text/plain": [
       "str"
      ]
     },
     "execution_count": 7,
     "metadata": {},
     "output_type": "execute_result"
    }
   ],
   "source": [
    "type(txt)"
   ]
  },
  {
   "cell_type": "code",
   "execution_count": 8,
   "id": "a9d70462-c9c5-4e5c-9ede-a7139a784e62",
   "metadata": {},
   "outputs": [
    {
     "data": {
      "text/plain": [
       "'WE ARE ENGINEERS'"
      ]
     },
     "execution_count": 8,
     "metadata": {},
     "output_type": "execute_result"
    }
   ],
   "source": [
    "txt.upper()\n",
    "txt.upper()"
   ]
  },
  {
   "cell_type": "markdown",
   "id": "5d401827-9453-44c4-8815-454dba1ea40c",
   "metadata": {},
   "source": [
    "# Trimming function"
   ]
  },
  {
   "cell_type": "code",
   "execution_count": 10,
   "id": "8f70367c-07aa-46cf-9eb2-7b5ede568625",
   "metadata": {},
   "outputs": [
    {
     "data": {
      "text/plain": [
       "'    python    '"
      ]
     },
     "execution_count": 10,
     "metadata": {},
     "output_type": "execute_result"
    }
   ],
   "source": [
    "txt = '    python    '\n",
    "txt"
   ]
  },
  {
   "cell_type": "code",
   "execution_count": 11,
   "id": "3d11e306-d815-499c-9ecd-ad38127466a2",
   "metadata": {},
   "outputs": [
    {
     "data": {
      "text/plain": [
       "'python'"
      ]
     },
     "execution_count": 11,
     "metadata": {},
     "output_type": "execute_result"
    }
   ],
   "source": [
    "txt.strip()"
   ]
  },
  {
   "cell_type": "code",
   "execution_count": 12,
   "id": "c3d63df3-f913-4586-87f0-c881bb1b3f01",
   "metadata": {},
   "outputs": [
    {
     "data": {
      "text/plain": [
       "'####python###'"
      ]
     },
     "execution_count": 12,
     "metadata": {},
     "output_type": "execute_result"
    }
   ],
   "source": [
    "txt1 = '####python###'\n",
    "txt1"
   ]
  },
  {
   "cell_type": "code",
   "execution_count": 13,
   "id": "9e41c1a8-f13b-448e-a764-b9bc67b5193e",
   "metadata": {},
   "outputs": [
    {
     "data": {
      "text/plain": [
       "'python'"
      ]
     },
     "execution_count": 13,
     "metadata": {},
     "output_type": "execute_result"
    }
   ],
   "source": [
    "txt1.strip('#')"
   ]
  },
  {
   "cell_type": "code",
   "execution_count": 14,
   "id": "9b5722c0-4ea0-4562-b727-cdd4a4eb790c",
   "metadata": {},
   "outputs": [
    {
     "data": {
      "text/plain": [
       "'python    '"
      ]
     },
     "execution_count": 14,
     "metadata": {},
     "output_type": "execute_result"
    }
   ],
   "source": [
    "txt.lstrip()"
   ]
  },
  {
   "cell_type": "code",
   "execution_count": 15,
   "id": "f178ff90-bf81-4dfa-b652-79b9d767fb18",
   "metadata": {},
   "outputs": [
    {
     "data": {
      "text/plain": [
       "'    python'"
      ]
     },
     "execution_count": 15,
     "metadata": {},
     "output_type": "execute_result"
    }
   ],
   "source": [
    "txt.rstrip()"
   ]
  },
  {
   "cell_type": "code",
   "execution_count": 16,
   "id": "e6a9e5ce-62fd-4fa8-93c8-0851babfd47c",
   "metadata": {},
   "outputs": [
    {
     "data": {
      "text/plain": [
       "'@@fusion software@@@'"
      ]
     },
     "execution_count": 16,
     "metadata": {},
     "output_type": "execute_result"
    }
   ],
   "source": [
    "xyz = '@@fusion software@@@'\n",
    "xyz"
   ]
  },
  {
   "cell_type": "code",
   "execution_count": 17,
   "id": "37e1ed0b-bea8-4aba-a756-f4b615cafabf",
   "metadata": {},
   "outputs": [
    {
     "data": {
      "text/plain": [
       "'fusion software'"
      ]
     },
     "execution_count": 17,
     "metadata": {},
     "output_type": "execute_result"
    }
   ],
   "source": [
    "xyz.strip('@')"
   ]
  },
  {
   "cell_type": "code",
   "execution_count": 18,
   "id": "53e258fd-53c4-468e-a59b-1e0d1c1b8631",
   "metadata": {},
   "outputs": [
    {
     "data": {
      "text/plain": [
       "'$$$$1,2,3,4,5'"
      ]
     },
     "execution_count": 18,
     "metadata": {},
     "output_type": "execute_result"
    }
   ],
   "source": [
    "abc = '$$$$1,2,3,4,5'\n",
    "abc"
   ]
  },
  {
   "cell_type": "code",
   "execution_count": 19,
   "id": "d9f25f4a-aa4f-4d20-a61a-093d10bf68e9",
   "metadata": {},
   "outputs": [
    {
     "data": {
      "text/plain": [
       "'1,2,3,4,5'"
      ]
     },
     "execution_count": 19,
     "metadata": {},
     "output_type": "execute_result"
    }
   ],
   "source": [
    "abc.strip('$')"
   ]
  },
  {
   "cell_type": "markdown",
   "id": "d0b442dc-c742-48a3-b326-48325331e38f",
   "metadata": {},
   "source": [
    "# Splitting and joining"
   ]
  },
  {
   "cell_type": "code",
   "execution_count": 21,
   "id": "203accbd-0919-4850-801c-9d3a5a77644a",
   "metadata": {},
   "outputs": [
    {
     "data": {
      "text/plain": [
       "'abc@gmail.com'"
      ]
     },
     "execution_count": 21,
     "metadata": {},
     "output_type": "execute_result"
    }
   ],
   "source": [
    "# spliting\n",
    "\n",
    "email = 'abc@gmail.com'\n",
    "email"
   ]
  },
  {
   "cell_type": "code",
   "execution_count": 22,
   "id": "cc8e4a5c-f574-4223-ada7-750f72a104b6",
   "metadata": {},
   "outputs": [
    {
     "data": {
      "text/plain": [
       "['abc', 'gmail.com']"
      ]
     },
     "execution_count": 22,
     "metadata": {},
     "output_type": "execute_result"
    }
   ],
   "source": [
    "email.split('@')"
   ]
  },
  {
   "cell_type": "code",
   "execution_count": 23,
   "id": "5b191e10-dc4c-4d93-98ff-0f255d7d01a0",
   "metadata": {},
   "outputs": [
    {
     "data": {
      "text/plain": [
       "'milk,oil,bread,jam,chees'"
      ]
     },
     "execution_count": 23,
     "metadata": {},
     "output_type": "execute_result"
    }
   ],
   "source": [
    "products = 'milk,oil,bread,jam,chees'\n",
    "products"
   ]
  },
  {
   "cell_type": "code",
   "execution_count": 24,
   "id": "786fd582-dde8-425b-9cb1-2558392d00fc",
   "metadata": {},
   "outputs": [
    {
     "data": {
      "text/plain": [
       "['milk', 'oil', 'bread', 'jam', 'chees']"
      ]
     },
     "execution_count": 24,
     "metadata": {},
     "output_type": "execute_result"
    }
   ],
   "source": [
    "products.split(',')"
   ]
  },
  {
   "cell_type": "code",
   "execution_count": 25,
   "id": "8f8636bf-c320-4b68-b3e9-2ca34c4e374d",
   "metadata": {},
   "outputs": [],
   "source": [
    "# join\n",
    "\n",
    "s1= 'python'\n",
    "s2 = 'is'\n",
    "s3 = 'easy'\n",
    "s4= 'and'\n",
    "s5 = 'simpal'"
   ]
  },
  {
   "cell_type": "code",
   "execution_count": 26,
   "id": "b17b5491-072c-4993-a5c8-3307dfd77a0e",
   "metadata": {},
   "outputs": [
    {
     "data": {
      "text/plain": [
       "'python is easy and simpal'"
      ]
     },
     "execution_count": 26,
     "metadata": {},
     "output_type": "execute_result"
    }
   ],
   "source": [
    "s1+' '+s2+' '+s3+' '+s4+' '+s5"
   ]
  },
  {
   "cell_type": "code",
   "execution_count": 27,
   "id": "c60a4077-c3fb-4dad-bc5f-6c5c2f52580e",
   "metadata": {},
   "outputs": [
    {
     "data": {
      "text/plain": [
       "'python is easy and simpal'"
      ]
     },
     "execution_count": 27,
     "metadata": {},
     "output_type": "execute_result"
    }
   ],
   "source": [
    "' '.join([s1,s2,s3,s4,s5])"
   ]
  },
  {
   "cell_type": "markdown",
   "id": "737c4a76-f463-48a9-86a8-52c2f52ac7dd",
   "metadata": {},
   "source": [
    "# Formatting"
   ]
  },
  {
   "cell_type": "code",
   "execution_count": 29,
   "id": "feb01cbd-08fb-483e-abb0-63cc0f5b7863",
   "metadata": {},
   "outputs": [],
   "source": [
    "name = 'sanika'\n",
    "age = 23\n",
    "course = 'Ds'"
   ]
  },
  {
   "cell_type": "code",
   "execution_count": 30,
   "id": "623fd816-9f99-42d8-b1b4-1e03be9c2896",
   "metadata": {},
   "outputs": [],
   "source": [
    "# name od student is sanika and she is 23 yrs old"
   ]
  },
  {
   "cell_type": "code",
   "execution_count": 31,
   "id": "1757c976-6100-4cff-80d0-8058b49e9ee8",
   "metadata": {},
   "outputs": [
    {
     "data": {
      "text/plain": [
       "'sanika'"
      ]
     },
     "execution_count": 31,
     "metadata": {},
     "output_type": "execute_result"
    }
   ],
   "source": [
    "name"
   ]
  },
  {
   "cell_type": "code",
   "execution_count": 32,
   "id": "20f5f07a-0cdb-46dc-a2c2-ca83c387ed1c",
   "metadata": {},
   "outputs": [
    {
     "name": "stdout",
     "output_type": "stream",
     "text": [
      "Name of student is name and sheis age yrs old. she has taken course course.\n"
     ]
    }
   ],
   "source": [
    "print('Name of student is name and sheis age yrs old. she has taken course course.')"
   ]
  },
  {
   "cell_type": "code",
   "execution_count": 33,
   "id": "e63df09f-da30-40f9-8ed4-ef64eeb101b4",
   "metadata": {},
   "outputs": [
    {
     "name": "stdout",
     "output_type": "stream",
     "text": [
      "Name of student is  sanika and she is 23 yrs old. she has taken Ds course.\n"
     ]
    }
   ],
   "source": [
    "print(f'Name of student is  {name} and she is {age} yrs old. she has taken {course} course.')"
   ]
  },
  {
   "cell_type": "markdown",
   "id": "59cf6d86-c494-40d7-a1d4-abae9fa6d1d6",
   "metadata": {},
   "source": [
    "# List"
   ]
  },
  {
   "cell_type": "code",
   "execution_count": 35,
   "id": "04d19277-8fab-48e1-8433-78035d02956b",
   "metadata": {},
   "outputs": [
    {
     "data": {
      "text/plain": [
       "[]"
      ]
     },
     "execution_count": 35,
     "metadata": {},
     "output_type": "execute_result"
    }
   ],
   "source": [
    "lst = []\n",
    "lst"
   ]
  },
  {
   "cell_type": "code",
   "execution_count": 36,
   "id": "3dc40c32-02a5-4810-bd65-4d4ad5d6cc83",
   "metadata": {},
   "outputs": [
    {
     "data": {
      "text/plain": [
       "list"
      ]
     },
     "execution_count": 36,
     "metadata": {},
     "output_type": "execute_result"
    }
   ],
   "source": [
    "type(lst)"
   ]
  },
  {
   "cell_type": "code",
   "execution_count": 37,
   "id": "a004871d-2053-4f0f-8d61-0e291d919e52",
   "metadata": {},
   "outputs": [
    {
     "data": {
      "text/plain": [
       "[]"
      ]
     },
     "execution_count": 37,
     "metadata": {},
     "output_type": "execute_result"
    }
   ],
   "source": [
    "xyz = list()\n",
    "lst"
   ]
  },
  {
   "cell_type": "code",
   "execution_count": 38,
   "id": "fb54a01f-fdbe-4e90-84ea-433cb7a8e6e6",
   "metadata": {},
   "outputs": [
    {
     "data": {
      "text/plain": [
       "[10, 20, 30, 14, 5, 'Hello', True]"
      ]
     },
     "execution_count": 38,
     "metadata": {},
     "output_type": "execute_result"
    }
   ],
   "source": [
    "lst = [10,20,30,14,5,'Hello',True]\n",
    "lst"
   ]
  },
  {
   "cell_type": "code",
   "execution_count": 39,
   "id": "94abad3a-3a8f-4aa1-b710-f885851d15ab",
   "metadata": {},
   "outputs": [
    {
     "data": {
      "text/plain": [
       "[10, 20, True, 'Hello', 23.5]"
      ]
     },
     "execution_count": 39,
     "metadata": {},
     "output_type": "execute_result"
    }
   ],
   "source": [
    "lst=[10, 20,True,'Hello',23.5]\n",
    "lst"
   ]
  },
  {
   "cell_type": "code",
   "execution_count": 40,
   "id": "0ff440ff-c4b5-4c1b-a0ad-880fe837e23b",
   "metadata": {},
   "outputs": [
    {
     "data": {
      "text/plain": [
       "[10, False, 20, True, 'Hello', 23.5]"
      ]
     },
     "execution_count": 40,
     "metadata": {},
     "output_type": "execute_result"
    }
   ],
   "source": [
    "lst.insert(1,False)\n",
    "lst"
   ]
  },
  {
   "cell_type": "code",
   "execution_count": 41,
   "id": "9faea303-74da-4322-ba3f-555b580448c9",
   "metadata": {},
   "outputs": [
    {
     "data": {
      "text/plain": [
       "4"
      ]
     },
     "execution_count": 41,
     "metadata": {},
     "output_type": "execute_result"
    }
   ],
   "source": [
    "lst.index('Hello')"
   ]
  },
  {
   "cell_type": "code",
   "execution_count": 42,
   "id": "62ae4782-8598-4dca-a1dd-733724486ad5",
   "metadata": {},
   "outputs": [
    {
     "data": {
      "text/plain": [
       "[12, 45, 67, 89, 90]"
      ]
     },
     "execution_count": 42,
     "metadata": {},
     "output_type": "execute_result"
    }
   ],
   "source": [
    "abc = [12,45,67,89,90]    # creat list of value\n",
    "abc"
   ]
  },
  {
   "cell_type": "code",
   "execution_count": 43,
   "id": "24986a8a-45db-4047-a8ba-d15fe81fbfde",
   "metadata": {},
   "outputs": [
    {
     "data": {
      "text/plain": [
       "[10, False, 20, True, 'Hello', 23.5, 12, 45, 67, 89, 90]"
      ]
     },
     "execution_count": 43,
     "metadata": {},
     "output_type": "execute_result"
    }
   ],
   "source": [
    "lst.extend(abc)    # adding a multiple value at a time in list\n",
    "lst"
   ]
  },
  {
   "cell_type": "code",
   "execution_count": 44,
   "id": "01fe8376-211b-4fc3-acdd-eb0ca17d53be",
   "metadata": {},
   "outputs": [],
   "source": [
    "# Remove value from a list"
   ]
  },
  {
   "cell_type": "code",
   "execution_count": 45,
   "id": "60f56e27-12ab-49b8-b873-f406b1e03cb3",
   "metadata": {},
   "outputs": [
    {
     "data": {
      "text/plain": [
       "90"
      ]
     },
     "execution_count": 45,
     "metadata": {},
     "output_type": "execute_result"
    }
   ],
   "source": [
    "lst.pop()"
   ]
  },
  {
   "cell_type": "code",
   "execution_count": 46,
   "id": "2ef2251a-d1e0-4bc5-8087-ea1a25a0a3b9",
   "metadata": {},
   "outputs": [
    {
     "data": {
      "text/plain": [
       "[10, False, 20, True, 'Hello', 23.5, 12, 45, 67, 89]"
      ]
     },
     "execution_count": 46,
     "metadata": {},
     "output_type": "execute_result"
    }
   ],
   "source": [
    "lst"
   ]
  },
  {
   "cell_type": "code",
   "execution_count": 47,
   "id": "482591e1-3ef0-4043-bf65-267c9f01299c",
   "metadata": {},
   "outputs": [
    {
     "data": {
      "text/plain": [
       "10"
      ]
     },
     "execution_count": 47,
     "metadata": {},
     "output_type": "execute_result"
    }
   ],
   "source": [
    "lst.pop(0)"
   ]
  },
  {
   "cell_type": "code",
   "execution_count": 48,
   "id": "1af1d478-2424-4c46-9a02-5ae7f3675d8a",
   "metadata": {},
   "outputs": [
    {
     "data": {
      "text/plain": [
       "[False, 20, True, 'Hello', 23.5, 12, 45, 67, 89]"
      ]
     },
     "execution_count": 48,
     "metadata": {},
     "output_type": "execute_result"
    }
   ],
   "source": [
    "lst"
   ]
  },
  {
   "cell_type": "code",
   "execution_count": 49,
   "id": "1d0022dc-6fe0-4ba6-8c64-8d0ad0ec231c",
   "metadata": {},
   "outputs": [
    {
     "data": {
      "text/plain": [
       "False"
      ]
     },
     "execution_count": 49,
     "metadata": {},
     "output_type": "execute_result"
    }
   ],
   "source": [
    "lst.pop(False)"
   ]
  },
  {
   "cell_type": "code",
   "execution_count": 50,
   "id": "2a94fdff-db27-4f5e-ad32-87147c4e454a",
   "metadata": {},
   "outputs": [
    {
     "data": {
      "text/plain": [
       "[20, True, 'Hello', 23.5, 12, 45, 67, 89]"
      ]
     },
     "execution_count": 50,
     "metadata": {},
     "output_type": "execute_result"
    }
   ],
   "source": [
    "lst"
   ]
  },
  {
   "cell_type": "markdown",
   "id": "44d85183-ae38-42a8-829b-53dbce7721fb",
   "metadata": {},
   "source": [
    "# Replace  <imp>"
   ]
  },
  {
   "cell_type": "code",
   "execution_count": 52,
   "id": "52179b95-9716-420c-a0be-c87b724fe2a0",
   "metadata": {},
   "outputs": [
    {
     "data": {
      "text/plain": [
       "[12, 56, True, 'machine lerning', 'powerbi']"
      ]
     },
     "execution_count": 52,
     "metadata": {},
     "output_type": "execute_result"
    }
   ],
   "source": [
    "lst = [12,56,True,'machine lerning','powerbi']\n",
    "lst       "
   ]
  },
  {
   "cell_type": "code",
   "execution_count": 53,
   "id": "a75c7899-5546-4cf6-810f-f8c82239bf97",
   "metadata": {},
   "outputs": [
    {
     "data": {
      "text/plain": [
       "'powerbi'"
      ]
     },
     "execution_count": 53,
     "metadata": {},
     "output_type": "execute_result"
    }
   ],
   "source": [
    "lst[4]"
   ]
  },
  {
   "cell_type": "code",
   "execution_count": 54,
   "id": "f52baf23-cccd-42be-bb6a-ba24a0fa5ece",
   "metadata": {},
   "outputs": [
    {
     "data": {
      "text/plain": [
       "[12, 56, True, 'machine lerning', 'Mysql']"
      ]
     },
     "execution_count": 54,
     "metadata": {},
     "output_type": "execute_result"
    }
   ],
   "source": [
    "lst [4]= 'Mysql'\n",
    "lst"
   ]
  },
  {
   "cell_type": "code",
   "execution_count": 55,
   "id": "b2cbba86-2ca6-4823-990f-1801d688a458",
   "metadata": {},
   "outputs": [
    {
     "data": {
      "text/plain": [
       "[12, 56, True, 'machine lerning', 'Mysql']"
      ]
     },
     "execution_count": 55,
     "metadata": {},
     "output_type": "execute_result"
    }
   ],
   "source": [
    "abc = lst.copy()\n",
    "abc"
   ]
  },
  {
   "cell_type": "code",
   "execution_count": 56,
   "id": "62424f50-f2f9-48fd-9084-505f09b9a831",
   "metadata": {},
   "outputs": [
    {
     "data": {
      "text/plain": [
       "1"
      ]
     },
     "execution_count": 56,
     "metadata": {},
     "output_type": "execute_result"
    }
   ],
   "source": [
    "lst.count(12)"
   ]
  },
  {
   "cell_type": "code",
   "execution_count": 57,
   "id": "fd65d555-0ed2-4fbd-96af-8f87775010cf",
   "metadata": {},
   "outputs": [
    {
     "data": {
      "text/plain": [
       "[12, 56, True, 'machine lerning', 'Mysql']"
      ]
     },
     "execution_count": 57,
     "metadata": {},
     "output_type": "execute_result"
    }
   ],
   "source": [
    "lst"
   ]
  },
  {
   "cell_type": "code",
   "execution_count": 58,
   "id": "c56bcba9-0c56-437e-9b3d-a749dc0e009a",
   "metadata": {},
   "outputs": [
    {
     "data": {
      "text/plain": [
       "['Mysql', 'machine lerning', True, 56, 12]"
      ]
     },
     "execution_count": 58,
     "metadata": {},
     "output_type": "execute_result"
    }
   ],
   "source": [
    "lst.reverse()\n",
    "lst"
   ]
  },
  {
   "cell_type": "code",
   "execution_count": 59,
   "id": "d9d9110b-7df5-4261-8df1-6829c1b42744",
   "metadata": {},
   "outputs": [
    {
     "ename": "TypeError",
     "evalue": "'<' not supported between instances of 'bool' and 'str'",
     "output_type": "error",
     "traceback": [
      "\u001b[1;31m---------------------------------------------------------------------------\u001b[0m",
      "\u001b[1;31mTypeError\u001b[0m                                 Traceback (most recent call last)",
      "Cell \u001b[1;32mIn[59], line 1\u001b[0m\n\u001b[1;32m----> 1\u001b[0m lst\u001b[38;5;241m.\u001b[39msort()\n",
      "\u001b[1;31mTypeError\u001b[0m: '<' not supported between instances of 'bool' and 'str'"
     ]
    }
   ],
   "source": [
    "lst.sort()    # cannot sort diffrent data types."
   ]
  },
  {
   "cell_type": "code",
   "execution_count": null,
   "id": "58e520d2-43b3-4976-a814-74a5b6e041ec",
   "metadata": {},
   "outputs": [],
   "source": [
    "lst1 = [12,90,65,1,67,45,43]\n",
    "lst1.sort()              #by default sorts the values in ascending order."
   ]
  },
  {
   "cell_type": "code",
   "execution_count": null,
   "id": "674c82c3-a726-44e5-8140-22bd5c9d2e19",
   "metadata": {},
   "outputs": [],
   "source": [
    "lst1"
   ]
  },
  {
   "cell_type": "code",
   "execution_count": null,
   "id": "cf65a105-37b2-4591-8edb-4988b968e7bb",
   "metadata": {},
   "outputs": [],
   "source": [
    "lst1.sort(reverse=True)\n",
    "lst1                     #sorting value is desending order with reverse parameters."
   ]
  },
  {
   "cell_type": "markdown",
   "id": "2496f8de-8200-4b05-97b9-b6f603cac405",
   "metadata": {},
   "source": [
    "# Tuple"
   ]
  },
  {
   "cell_type": "code",
   "execution_count": null,
   "id": "49d3c7e7-63b9-4310-86c1-e82bbcab8b23",
   "metadata": {},
   "outputs": [],
   "source": [
    "xyz = ()\n",
    "type(xyz)"
   ]
  },
  {
   "cell_type": "code",
   "execution_count": null,
   "id": "7e578048-c2aa-452e-a319-ff2395a949ba",
   "metadata": {},
   "outputs": [],
   "source": [
    "xyz = tuple()\n",
    "type(xyz)"
   ]
  },
  {
   "cell_type": "code",
   "execution_count": null,
   "id": "e4424975-7982-4dfd-979c-1fd92605eada",
   "metadata": {},
   "outputs": [],
   "source": [
    "x = (12,12,45.6,False,\"Deep Learning\")\n",
    "x"
   ]
  },
  {
   "cell_type": "code",
   "execution_count": null,
   "id": "130d3277-94e1-4cf9-92ec-fcc12fcd0907",
   "metadata": {},
   "outputs": [],
   "source": [
    "x[1]"
   ]
  },
  {
   "cell_type": "code",
   "execution_count": null,
   "id": "6f40effc-2386-4e4c-8b93-4c36438c784c",
   "metadata": {},
   "outputs": [],
   "source": [
    "x"
   ]
  },
  {
   "cell_type": "code",
   "execution_count": null,
   "id": "44d2976b-5c38-4986-b96e-1997ae09b68c",
   "metadata": {},
   "outputs": [],
   "source": [
    "x.append(67)      # Addition is not allowed in tuple."
   ]
  },
  {
   "cell_type": "code",
   "execution_count": null,
   "id": "98f65c9b-e1c9-4433-9ede-4de90e7969db",
   "metadata": {},
   "outputs": [],
   "source": [
    "x.count(12)"
   ]
  },
  {
   "cell_type": "code",
   "execution_count": null,
   "id": "dc1c2093-d422-4768-b2aa-5d9b307dc739",
   "metadata": {},
   "outputs": [],
   "source": [
    "x.index(45.6)"
   ]
  },
  {
   "cell_type": "markdown",
   "id": "6fa5af0b-1410-45a3-bb14-69c4e4540e70",
   "metadata": {},
   "source": [
    "# Dictionary"
   ]
  },
  {
   "cell_type": "code",
   "execution_count": null,
   "id": "c08c45ee-88f6-4b9f-924e-338ad552590f",
   "metadata": {},
   "outputs": [],
   "source": [
    "details = {}\n",
    "type(details)"
   ]
  },
  {
   "cell_type": "code",
   "execution_count": null,
   "id": "c995b1d2-d7f3-4d59-9509-88b8337e2120",
   "metadata": {},
   "outputs": [],
   "source": [
    "details = {'Name' : 'Nikita',\n",
    "          'Age' : 25,\n",
    "          'Course' : 'DS'}\n",
    "details"
   ]
  },
  {
   "cell_type": "code",
   "execution_count": null,
   "id": "6e802952-9169-4fa7-84a8-4767ff860fb5",
   "metadata": {},
   "outputs": [],
   "source": [
    "details.keys()"
   ]
  },
  {
   "cell_type": "code",
   "execution_count": null,
   "id": "29284927-ab52-4f58-8e09-e45fba4f73f7",
   "metadata": {},
   "outputs": [],
   "source": [
    "details.values()"
   ]
  },
  {
   "cell_type": "code",
   "execution_count": null,
   "id": "a1fd6feb-2051-41b7-8200-9e3d09f4e36f",
   "metadata": {},
   "outputs": [],
   "source": [
    "details.update({'Date' : 'April 2015'})\n",
    "details"
   ]
  },
  {
   "cell_type": "code",
   "execution_count": null,
   "id": "7cef707d-1953-40cb-b342-95bcf3a4b972",
   "metadata": {},
   "outputs": [],
   "source": [
    "details.update({'weight' : 56, 'height' : 5.7})\n",
    "details"
   ]
  },
  {
   "cell_type": "code",
   "execution_count": null,
   "id": "a439fb37-f9df-4715-9daa-2938a5c86683",
   "metadata": {},
   "outputs": [],
   "source": [
    "students = {'name' : {'a','b','c','d','e'},\n",
    "           'age' : [23,24,21,33,22]}          # Multiple value can be given for a single ke\n",
    "students"
   ]
  },
  {
   "cell_type": "code",
   "execution_count": null,
   "id": "47f60960-80d9-47c1-aa64-59f75e4ae0a9",
   "metadata": {},
   "outputs": [],
   "source": [
    "details"
   ]
  },
  {
   "cell_type": "code",
   "execution_count": null,
   "id": "368deb8c-33ea-4560-b632-8e41521e31d9",
   "metadata": {},
   "outputs": [],
   "source": [
    "details['Course']  # we use keys to perform indexing in dictionay."
   ]
  },
  {
   "cell_type": "code",
   "execution_count": null,
   "id": "d561b792-942b-47ab-9333-d67a2325953c",
   "metadata": {},
   "outputs": [],
   "source": [
    "details.pop('Height')"
   ]
  },
  {
   "cell_type": "code",
   "execution_count": null,
   "id": "4a534b0e-6c18-4557-b52e-4e25f87072c8",
   "metadata": {},
   "outputs": [],
   "source": [
    "details"
   ]
  },
  {
   "cell_type": "code",
   "execution_count": null,
   "id": "5849bba0-2889-4038-bf0f-ebfccb16df48",
   "metadata": {},
   "outputs": [],
   "source": [
    "details['Course'] = 'DA'    # replacing value in dictionary."
   ]
  },
  {
   "cell_type": "code",
   "execution_count": null,
   "id": "114eff24-6b82-4a6e-9076-6075613e8979",
   "metadata": {},
   "outputs": [],
   "source": [
    "details"
   ]
  },
  {
   "cell_type": "markdown",
   "id": "a0722612-20b2-4ffe-9fc6-d734bb5f903b",
   "metadata": {},
   "source": [
    "# set"
   ]
  },
  {
   "cell_type": "code",
   "execution_count": null,
   "id": "29beb988-88aa-4ea3-b433-e34a74239ea9",
   "metadata": {},
   "outputs": [],
   "source": [
    "s = {}\n",
    "type(s)"
   ]
  },
  {
   "cell_type": "code",
   "execution_count": null,
   "id": "71fafd36-a5c5-4e99-a742-f94967eb4a51",
   "metadata": {},
   "outputs": [],
   "source": [
    "s = {1,3,5,6,7}\n",
    "type(s)"
   ]
  },
  {
   "cell_type": "code",
   "execution_count": null,
   "id": "e84270d2-6c16-41d9-b330-3f422c89d8bf",
   "metadata": {},
   "outputs": [],
   "source": [
    "s = {56,43,1,23,90,2}\n",
    "type(s)"
   ]
  },
  {
   "cell_type": "code",
   "execution_count": null,
   "id": "f42644b9-1dda-4cc5-82c5-80eb2bfa1508",
   "metadata": {},
   "outputs": [],
   "source": [
    "s"
   ]
  },
  {
   "cell_type": "code",
   "execution_count": null,
   "id": "0b70ddfc-7474-4c00-8d54-a4d22c0aaa33",
   "metadata": {},
   "outputs": [],
   "source": [
    "s1 = {78,34,12,56.98,78.0,True,False,'Python','Machine Learning'}\n",
    "s1"
   ]
  },
  {
   "cell_type": "code",
   "execution_count": null,
   "id": "8b7ef3ec-5747-415a-b906-d7d7d5c62187",
   "metadata": {},
   "outputs": [],
   "source": [
    "s1[0]     # Gives an error as indexing is not allowed."
   ]
  },
  {
   "cell_type": "code",
   "execution_count": null,
   "id": "a71beafd-fdf0-4a07-a06f-770fb8c432b4",
   "metadata": {},
   "outputs": [],
   "source": [
    "s1.add(16)\n",
    "s1"
   ]
  },
  {
   "cell_type": "code",
   "execution_count": null,
   "id": "b7db1d5c-8432-44bf-a26d-e9bd06b63853",
   "metadata": {},
   "outputs": [],
   "source": [
    "s1.pop()"
   ]
  },
  {
   "cell_type": "code",
   "execution_count": null,
   "id": "c737150d-6ef2-4bb5-9299-ae76fc4458e2",
   "metadata": {},
   "outputs": [],
   "source": [
    "s1"
   ]
  },
  {
   "cell_type": "code",
   "execution_count": null,
   "id": "aee303ba-5cb5-4b55-bbec-2933b884c02d",
   "metadata": {},
   "outputs": [],
   "source": [
    "s1.remove(34)"
   ]
  },
  {
   "cell_type": "code",
   "execution_count": null,
   "id": "ce104b26-53c1-4555-8c03-22ae826a4696",
   "metadata": {},
   "outputs": [],
   "source": [
    "s1"
   ]
  },
  {
   "cell_type": "code",
   "execution_count": null,
   "id": "4f403966-0cab-477e-9b84-3919a5fe0afe",
   "metadata": {},
   "outputs": [],
   "source": [
    "# imp questions Remove all the duplicate value from list interview question."
   ]
  },
  {
   "cell_type": "markdown",
   "id": "e7ae0a46-41b1-4b0a-a842-16c5cb5ce58e",
   "metadata": {},
   "source": [
    "# Remove all the duplicated from list"
   ]
  },
  {
   "cell_type": "code",
   "execution_count": null,
   "id": "782dcf7d-fcf0-4f56-a4fe-584b3cfce579",
   "metadata": {},
   "outputs": [],
   "source": [
    "lst = [1,1,1,2,2,2,3,3,3,4,4,4, 356,78,78]\n",
    "lst"
   ]
  },
  {
   "cell_type": "markdown",
   "id": "029d0f1f-8b59-49b7-818e-c45a6005cf4f",
   "metadata": {},
   "source": [
    "# Typecating"
   ]
  },
  {
   "cell_type": "code",
   "execution_count": null,
   "id": "54aa9593-1391-4319-b463-d34b169e6d9d",
   "metadata": {},
   "outputs": [],
   "source": [
    "A method of changing data type or data structure of any variable"
   ]
  },
  {
   "cell_type": "code",
   "execution_count": null,
   "id": "ba8afb04-c1de-4120-bca0-e6b5a0302f22",
   "metadata": {},
   "outputs": [],
   "source": [
    "# int,float,str,bool,list,set,tuple,dict   -> all typecastingfunction in python."
   ]
  },
  {
   "cell_type": "code",
   "execution_count": null,
   "id": "49447f93-d6fc-4ae9-ad9f-c01a32a37242",
   "metadata": {},
   "outputs": [],
   "source": [
    "lst"
   ]
  },
  {
   "cell_type": "code",
   "execution_count": null,
   "id": "dbbc5a97-b088-47e7-ac6d-683de999ca6c",
   "metadata": {},
   "outputs": [],
   "source": [
    "unique_set = set(lst)    # Converting list into set to remove all the duplicates.\n",
    "\n",
    "unique_set\n",
    "type(unique_set)"
   ]
  },
  {
   "cell_type": "code",
   "execution_count": null,
   "id": "98f8e0fa-0245-461e-9a4a-4d21d8b2fb31",
   "metadata": {},
   "outputs": [],
   "source": [
    "unique_list = list(unique_set)\n",
    "unique_list"
   ]
  },
  {
   "cell_type": "code",
   "execution_count": null,
   "id": "c0aadab2-16ad-451d-809f-df4874a25c2f",
   "metadata": {},
   "outputs": [],
   "source": [
    "lst"
   ]
  },
  {
   "cell_type": "code",
   "execution_count": null,
   "id": "84a5af57-6455-457c-9bc3-a32cee08f9b9",
   "metadata": {},
   "outputs": [],
   "source": [
    "final_list = list(set(lst))\n",
    "type(final_list)"
   ]
  },
  {
   "cell_type": "markdown",
   "id": "f303fe2a-6378-4bf0-a4ae-1429af0deb75",
   "metadata": {},
   "source": [
    "# Conditional Statement"
   ]
  },
  {
   "cell_type": "markdown",
   "id": "64fc3ac3-b960-49e4-91be-c666f9fb9274",
   "metadata": {},
   "source": [
    "# Understanding the Comparison Operator"
   ]
  },
  {
   "cell_type": "code",
   "execution_count": null,
   "id": "d94d4029-fbb2-4f7f-bb87-c7cca610076f",
   "metadata": {},
   "outputs": [],
   "source": [
    "a = 68\n",
    "b = 23"
   ]
  },
  {
   "cell_type": "code",
   "execution_count": null,
   "id": "05dacadb-29b3-47f5-8afe-1d7b605d9768",
   "metadata": {},
   "outputs": [],
   "source": [
    "a,b"
   ]
  },
  {
   "cell_type": "code",
   "execution_count": null,
   "id": "e0bc2f3d-665b-4665-ad4d-173df08b7fa6",
   "metadata": {},
   "outputs": [],
   "source": [
    "a == b"
   ]
  },
  {
   "cell_type": "code",
   "execution_count": null,
   "id": "c5bba2e2-2988-49ac-9846-af8f06873e5d",
   "metadata": {},
   "outputs": [],
   "source": [
    "a > b"
   ]
  },
  {
   "cell_type": "code",
   "execution_count": null,
   "id": "b1138162-4f27-4385-a699-a6285063f037",
   "metadata": {},
   "outputs": [],
   "source": [
    "a < b"
   ]
  },
  {
   "cell_type": "code",
   "execution_count": null,
   "id": "d812cdce-200a-45ea-9b7a-9eb6262a121d",
   "metadata": {},
   "outputs": [],
   "source": [
    "a != b"
   ]
  },
  {
   "cell_type": "code",
   "execution_count": null,
   "id": "e64c5927-8324-405b-a909-ac534c4f36e8",
   "metadata": {},
   "outputs": [],
   "source": [
    "a >= b"
   ]
  },
  {
   "cell_type": "code",
   "execution_count": null,
   "id": "5aac6569-90cd-48d5-9710-a391c448fda2",
   "metadata": {},
   "outputs": [],
   "source": [
    "a <= b"
   ]
  },
  {
   "cell_type": "markdown",
   "id": "33613338-3014-422e-969a-0ba306266a31",
   "metadata": {},
   "source": [
    "# Write a program that checks if a person has given correct password"
   ]
  },
  {
   "cell_type": "code",
   "execution_count": null,
   "id": "09182b05-fa41-4146-8148-4944f8f1a951",
   "metadata": {},
   "outputs": [],
   "source": [
    "original_password = 'admin123'\n",
    "user_password = 'admin123'\n",
    "\n",
    "\n",
    "if original_password == user_password:\n",
    "    print('Access Given!')"
   ]
  },
  {
   "cell_type": "code",
   "execution_count": null,
   "id": "a419a571-b3a2-4138-a08c-32efcf218551",
   "metadata": {},
   "outputs": [],
   "source": [
    "# what if the user password is incorrect ?\n",
    "\n",
    "original_password = 'admin123'\n",
    "user_password = 'admin12'\n",
    "\n",
    "if original_password == user_password:\n",
    "    print('Access Given!')\n",
    "else:\n",
    "    print('Incorrect Password!')"
   ]
  },
  {
   "cell_type": "code",
   "execution_count": null,
   "id": "68473820-9737-4c19-8fbc-a898ff078650",
   "metadata": {},
   "outputs": [],
   "source": [
    "a = 89\n",
    "b = 56\n",
    "\n",
    "a,b"
   ]
  },
  {
   "cell_type": "code",
   "execution_count": null,
   "id": "0435b241-6c0a-45f1-a549-5e1e07ef7cf2",
   "metadata": {},
   "outputs": [],
   "source": [
    "a > b and a<90"
   ]
  },
  {
   "cell_type": "code",
   "execution_count": null,
   "id": "c2f406ec-4454-4760-a47c-303dbda86452",
   "metadata": {},
   "outputs": [],
   "source": [
    "a > b and a < 78"
   ]
  },
  {
   "cell_type": "code",
   "execution_count": null,
   "id": "4650c0a5-860f-4bf5-b3ac-d24004a3baa0",
   "metadata": {},
   "outputs": [],
   "source": [
    "a > b or a < 90"
   ]
  },
  {
   "cell_type": "code",
   "execution_count": null,
   "id": "34c1c73e-9b38-4c3c-9b92-5a355f3051da",
   "metadata": {},
   "outputs": [],
   "source": [
    "a > b or a < 78"
   ]
  },
  {
   "cell_type": "markdown",
   "id": "e2563cab-eca9-45e3-9b2e-296772d14273",
   "metadata": {},
   "source": [
    "# write a program that checks if a person has given correct password and username."
   ]
  },
  {
   "cell_type": "code",
   "execution_count": null,
   "id": "fe053e8c-0f5b-4033-9e5f-63450d02971b",
   "metadata": {},
   "outputs": [],
   "source": [
    "original_id = 'admin'\n",
    "original_password = 12345\n",
    "\n",
    "user_id = 'admin'\n",
    "user_password = 12345\n",
    "\n",
    "\n",
    "if (original_id == user_id and original_password == user_password):\n",
    "    print('Access Given!')\n",
    "else:\n",
    "    print('Access denied!')"
   ]
  },
  {
   "cell_type": "markdown",
   "id": "ba1c0dd1-2bc6-4301-b56f-cde309ef5582",
   "metadata": {},
   "source": [
    "# check the given number is positive,negative,or zero"
   ]
  },
  {
   "cell_type": "code",
   "execution_count": null,
   "id": "9bb5fd60-0717-411d-a552-d5970f01c766",
   "metadata": {},
   "outputs": [],
   "source": [
    "number = "
   ]
  },
  {
   "cell_type": "code",
   "execution_count": null,
   "id": "a0255ddf-2250-4bf3-805f-dec1f91f01d1",
   "metadata": {},
   "outputs": [],
   "source": [
    "if number > 0:\n",
    "    print('positive')\n",
    "elif number < 0:\n",
    "    print('Negative')\n",
    "else:\n",
    "    print('Zero')    "
   ]
  },
  {
   "cell_type": "code",
   "execution_count": null,
   "id": "8ecd7310-eb96-4266-b990-b3496d53a9c7",
   "metadata": {},
   "outputs": [],
   "source": [
    "1 temperature > 30 ->temprature is high\n",
    "2 temprature > 20 -> wether is good\n",
    "3 temprature < 20 -> its a cold outside"
   ]
  },
  {
   "cell_type": "code",
   "execution_count": null,
   "id": "ecd6ad63-de9b-40dc-af26-f51264e396b9",
   "metadata": {},
   "outputs": [],
   "source": [
    "Temprature = 25\n",
    "\n",
    "if Temprature > 30:\n",
    "    print('Temprature is high')\n",
    "elif Temprature > 20:\n",
    "    print('wether is good')\n",
    "else:\n",
    "    print('its a cold outside')    "
   ]
  },
  {
   "cell_type": "markdown",
   "id": "3ee10d12-8842-4047-9c6c-541fe21ab5e5",
   "metadata": {},
   "source": [
    "# Check if a user can enter a club(age & membership required)."
   ]
  },
  {
   "cell_type": "code",
   "execution_count": null,
   "id": "4c2cebc2-9239-4c35-b726-e7e8603af929",
   "metadata": {},
   "outputs": [],
   "source": [
    "age = 16\n",
    "membership = 'yes'\n",
    "\n",
    "if(age > 21 and membership == 'yes'):\n",
    "    print('you can enter the club')\n",
    "else:\n",
    "    print('you cannot enter the club')"
   ]
  },
  {
   "cell_type": "code",
   "execution_count": null,
   "id": "c70da62f-cfef-4197-9934-14f6871f2e65",
   "metadata": {},
   "outputs": [],
   "source": [
    "# Exampal\n",
    "Check whether user has debit card or not:\n",
    "if yes, check whether the withdrawal ammount is less than the available balance.\n",
    "if yes,print Transaction completed.\n",
    "is no,print the message accordingly."
   ]
  },
  {
   "cell_type": "code",
   "execution_count": null,
   "id": "d10f79dd-8b92-4710-9b99-4b84601b271d",
   "metadata": {},
   "outputs": [],
   "source": [
    "has_card = 'yes'\n",
    "balance = 50000\n",
    "withdrawal = 10000\n",
    "\n",
    "if has_card == 'yes':\n",
    "    if withdrawal < balance:\n",
    "        print('Transaction is Completed.')\n",
    "    else:\n",
    "        print('Denied transaction due to insufficient balance.')\n",
    "else:\n",
    "    print('Denied the transaction due to invalid card.')"
   ]
  },
  {
   "cell_type": "markdown",
   "id": "8700cd4d-d612-4bfb-a33a-7ec12e7e39f3",
   "metadata": {},
   "source": [
    "# with user input¶"
   ]
  },
  {
   "cell_type": "code",
   "execution_count": null,
   "id": "ad9cbd7f-3562-47d9-ac0d-524b30097d55",
   "metadata": {},
   "outputs": [],
   "source": [
    "input()"
   ]
  },
  {
   "cell_type": "code",
   "execution_count": null,
   "id": "5a08ec19-f27a-48f8-a862-f00fb223dd68",
   "metadata": {},
   "outputs": [],
   "source": [
    "age = input('Enter your age:')"
   ]
  },
  {
   "cell_type": "code",
   "execution_count": null,
   "id": "f94b85bb-d6b6-4ad8-9142-ccf40eaa5abf",
   "metadata": {},
   "outputs": [],
   "source": [
    "age"
   ]
  },
  {
   "cell_type": "code",
   "execution_count": null,
   "id": "9ae22043-516d-4210-9fcd-e8c05d5ef6d7",
   "metadata": {},
   "outputs": [],
   "source": [
    "type(age)"
   ]
  },
  {
   "cell_type": "code",
   "execution_count": null,
   "id": "643904c0-a093-4f84-a99c-a8f451c3f712",
   "metadata": {},
   "outputs": [],
   "source": [
    "weight = input()    #by default input function converts all values into string data\n",
    "type(weight)"
   ]
  },
  {
   "cell_type": "code",
   "execution_count": null,
   "id": "0c0cb572-30c9-4dea-9c25-b75ff8fe728c",
   "metadata": {},
   "outputs": [],
   "source": [
    "name = input()\n",
    "name"
   ]
  },
  {
   "cell_type": "markdown",
   "id": "0b15ac74-8705-4b3c-b8ad-362fcbfd2043",
   "metadata": {},
   "source": [
    "age"
   ]
  },
  {
   "cell_type": "code",
   "execution_count": null,
   "id": "0b240871-3bb8-4512-8641-a45e66a3cf9a",
   "metadata": {},
   "outputs": [],
   "source": [
    "a = int(age)\n",
    "type(a)"
   ]
  },
  {
   "cell_type": "code",
   "execution_count": null,
   "id": "0a2f8198-9217-4b55-806b-02d4a463ad18",
   "metadata": {},
   "outputs": [],
   "source": [
    "age = int(input('Enter your age:'))"
   ]
  },
  {
   "cell_type": "code",
   "execution_count": null,
   "id": "1604e97d-4487-46f9-81f0-d02c076923bf",
   "metadata": {},
   "outputs": [],
   "source": [
    "age"
   ]
  },
  {
   "cell_type": "code",
   "execution_count": null,
   "id": "f5274702-2769-423c-baef-6bc00b71b6b9",
   "metadata": {},
   "outputs": [],
   "source": [
    "type(age)"
   ]
  },
  {
   "cell_type": "markdown",
   "id": "5c5aca68-f619-41f4-8a73-0ee3c33f61e1",
   "metadata": {},
   "source": [
    "# Loops"
   ]
  },
  {
   "cell_type": "code",
   "execution_count": null,
   "id": "433ab55d-f5bb-4d80-b2c0-fd3549669796",
   "metadata": {},
   "outputs": [],
   "source": [
    "-1. For Loop / finite\n",
    "-2. While Loop /Infinity"
   ]
  },
  {
   "cell_type": "markdown",
   "id": "3db34fd9-08d7-433f-b18b-3cde338e88e2",
   "metadata": {},
   "source": [
    "**Range()**"
   ]
  },
  {
   "cell_type": "code",
   "execution_count": null,
   "id": "89bddb39-b8a1-429a-87a1-367aa4886236",
   "metadata": {},
   "outputs": [],
   "source": [
    "# Range(start,end,stepsize)"
   ]
  },
  {
   "cell_type": "code",
   "execution_count": null,
   "id": "3fa48c2e-e4ee-43c9-bddc-dca26808d839",
   "metadata": {},
   "outputs": [],
   "source": [
    "range(1,20)"
   ]
  },
  {
   "cell_type": "code",
   "execution_count": null,
   "id": "097b0a6e-ca91-4fb6-a903-41980dc0bc43",
   "metadata": {},
   "outputs": [],
   "source": [
    "[range(1,20)]"
   ]
  },
  {
   "cell_type": "code",
   "execution_count": null,
   "id": "8317b2bc-5dad-4727-8504-bfaffe683a56",
   "metadata": {},
   "outputs": [],
   "source": [
    "list(range(1,20))"
   ]
  },
  {
   "cell_type": "code",
   "execution_count": null,
   "id": "788ff978-4b7f-4bd6-af64-73dc09490ca6",
   "metadata": {},
   "outputs": [],
   "source": [
    "list(range(1,21,2))"
   ]
  },
  {
   "cell_type": "code",
   "execution_count": null,
   "id": "6ea72e7f-30ff-4b7c-85bc-04d5c8454e0c",
   "metadata": {},
   "outputs": [],
   "source": [
    "x = set(range(0,20,2))\n",
    "x"
   ]
  },
  {
   "cell_type": "code",
   "execution_count": null,
   "id": "5c291f65-1487-415a-a483-eff7943305e8",
   "metadata": {},
   "outputs": [],
   "source": [
    "list(range(20,0,1))"
   ]
  },
  {
   "cell_type": "code",
   "execution_count": null,
   "id": "beb9e205-a366-489b-ae08-593a3304effb",
   "metadata": {},
   "outputs": [],
   "source": [
    "list(range(20,0,-1))"
   ]
  },
  {
   "cell_type": "code",
   "execution_count": null,
   "id": "7cbf8727-ad9a-43fd-8b27-bc023a79ca29",
   "metadata": {},
   "outputs": [],
   "source": [
    "list(range(-10,5))"
   ]
  },
  {
   "cell_type": "markdown",
   "id": "a8c9f3ea-9416-4c19-83a6-44a5a95f6eab",
   "metadata": {},
   "source": [
    "# For Loops"
   ]
  },
  {
   "cell_type": "code",
   "execution_count": 1,
   "id": "dce3f618-a7a5-4d09-97e1-4dcec12c9417",
   "metadata": {},
   "outputs": [
    {
     "data": {
      "text/plain": [
       "[12, 45, 67, 89, 90, 45, 34, 23]"
      ]
     },
     "execution_count": 1,
     "metadata": {},
     "output_type": "execute_result"
    }
   ],
   "source": [
    "age = [12,45,67,89,90,45,34,23]\n",
    "age"
   ]
  },
  {
   "cell_type": "code",
   "execution_count": 3,
   "id": "488cad76-4f25-47fb-abf7-8b1ff95b3952",
   "metadata": {},
   "outputs": [
    {
     "name": "stdout",
     "output_type": "stream",
     "text": [
      "12\n",
      "45\n",
      "67\n",
      "89\n",
      "90\n",
      "45\n",
      "34\n",
      "23\n"
     ]
    }
   ],
   "source": [
    "for i in age :\n",
    "    print(i)"
   ]
  },
  {
   "cell_type": "code",
   "execution_count": 5,
   "id": "53578163-5971-49ff-ac07-c3a490c25b46",
   "metadata": {},
   "outputs": [
    {
     "name": "stdout",
     "output_type": "stream",
     "text": [
      "W\n",
      "e\n",
      " \n",
      "a\n",
      "r\n",
      "e\n",
      " \n",
      "l\n",
      "e\n",
      "a\n",
      "r\n",
      "n\n",
      "i\n",
      "n\n",
      "g\n",
      " \n",
      "p\n",
      "y\n",
      "t\n",
      "h\n",
      "o\n",
      "n\n"
     ]
    }
   ],
   "source": [
    "txt = 'We are learning python'\n",
    "\n",
    "for abc in  txt:\n",
    "    print(abc)"
   ]
  },
  {
   "cell_type": "code",
   "execution_count": 7,
   "id": "7225536b-000c-4ef0-a7d0-b607589b67ed",
   "metadata": {},
   "outputs": [
    {
     "ename": "TypeError",
     "evalue": "'int' object is not iterable",
     "output_type": "error",
     "traceback": [
      "\u001b[1;31m---------------------------------------------------------------------------\u001b[0m",
      "\u001b[1;31mTypeError\u001b[0m                                 Traceback (most recent call last)",
      "Cell \u001b[1;32mIn[7], line 2\u001b[0m\n\u001b[0;32m      1\u001b[0m num \u001b[38;5;241m=\u001b[39m \u001b[38;5;241m1623488723\u001b[39m    \u001b[38;5;66;03m# for loop does not work on non iterables.\u001b[39;00m\n\u001b[1;32m----> 2\u001b[0m \u001b[38;5;28;01mfor\u001b[39;00m i \u001b[38;5;129;01min\u001b[39;00m num:\n\u001b[0;32m      3\u001b[0m     \u001b[38;5;28mprint\u001b[39m(i)\n",
      "\u001b[1;31mTypeError\u001b[0m: 'int' object is not iterable"
     ]
    }
   ],
   "source": [
    "num = 1623488723    # for loop does not work on non iterables.\n",
    "for i in num:\n",
    "    print(i)"
   ]
  },
  {
   "cell_type": "code",
   "execution_count": null,
   "id": "9beb0060-9ad2-4d3e-a10d-30968d0be2e4",
   "metadata": {},
   "outputs": [],
   "source": [
    "Company = ['amazon','flipkart','nykaa','samsung','apple']\n",
    "Company"
   ]
  },
  {
   "cell_type": "code",
   "execution_count": 10,
   "id": "a1bf23ba-56a7-4664-a42c-23fec55d8166",
   "metadata": {},
   "outputs": [
    {
     "data": {
      "text/plain": [
       "'www.amazon.com'"
      ]
     },
     "execution_count": 10,
     "metadata": {},
     "output_type": "execute_result"
    }
   ],
   "source": [
    "'www.'+'amazon'+'.com'"
   ]
  },
  {
   "cell_type": "code",
   "execution_count": 12,
   "id": "f255af5d-3140-430a-ba5c-fa2d16c61525",
   "metadata": {},
   "outputs": [
    {
     "ename": "NameError",
     "evalue": "name 'Company' is not defined",
     "output_type": "error",
     "traceback": [
      "\u001b[1;31m---------------------------------------------------------------------------\u001b[0m",
      "\u001b[1;31mNameError\u001b[0m                                 Traceback (most recent call last)",
      "Cell \u001b[1;32mIn[12], line 1\u001b[0m\n\u001b[1;32m----> 1\u001b[0m Company\n",
      "\u001b[1;31mNameError\u001b[0m: name 'Company' is not defined"
     ]
    }
   ],
   "source": [
    "Company"
   ]
  },
  {
   "cell_type": "code",
   "execution_count": 14,
   "id": "49e01a88-7f5e-40cf-b87f-67d5bda137ef",
   "metadata": {},
   "outputs": [
    {
     "ename": "NameError",
     "evalue": "name 'Company' is not defined",
     "output_type": "error",
     "traceback": [
      "\u001b[1;31m---------------------------------------------------------------------------\u001b[0m",
      "\u001b[1;31mNameError\u001b[0m                                 Traceback (most recent call last)",
      "Cell \u001b[1;32mIn[14], line 1\u001b[0m\n\u001b[1;32m----> 1\u001b[0m \u001b[38;5;28;01mfor\u001b[39;00m i \u001b[38;5;129;01min\u001b[39;00m Company:\n\u001b[0;32m      2\u001b[0m     \u001b[38;5;28mprint\u001b[39m(i)\n",
      "\u001b[1;31mNameError\u001b[0m: name 'Company' is not defined"
     ]
    }
   ],
   "source": [
    "for i in Company:\n",
    "    print(i)"
   ]
  },
  {
   "cell_type": "code",
   "execution_count": 16,
   "id": "06f089dc-26e5-46e3-a97f-361b9dd708e3",
   "metadata": {},
   "outputs": [
    {
     "ename": "NameError",
     "evalue": "name 'Company' is not defined",
     "output_type": "error",
     "traceback": [
      "\u001b[1;31m---------------------------------------------------------------------------\u001b[0m",
      "\u001b[1;31mNameError\u001b[0m                                 Traceback (most recent call last)",
      "Cell \u001b[1;32mIn[16], line 1\u001b[0m\n\u001b[1;32m----> 1\u001b[0m \u001b[38;5;28;01mfor\u001b[39;00m i \u001b[38;5;129;01min\u001b[39;00m Company:\n\u001b[0;32m      2\u001b[0m     \u001b[38;5;28mprint\u001b[39m(\u001b[38;5;124m'\u001b[39m\u001b[38;5;124mwww.\u001b[39m\u001b[38;5;124m'\u001b[39m\u001b[38;5;241m+\u001b[39mi\u001b[38;5;241m+\u001b[39m\u001b[38;5;124m'\u001b[39m\u001b[38;5;124m.com\u001b[39m\u001b[38;5;124m'\u001b[39m)\n",
      "\u001b[1;31mNameError\u001b[0m: name 'Company' is not defined"
     ]
    }
   ],
   "source": [
    "for i in Company:\n",
    "    print('www.'+i+'.com')"
   ]
  },
  {
   "cell_type": "code",
   "execution_count": null,
   "id": "48319732-cc72-49fe-a8fc-64062a4a851f",
   "metadata": {},
   "outputs": [],
   "source": [
    "websites = []\n",
    "\n",
    "for i in Company:\n",
    "    x = 'www.'+i+'.com'\n",
    "    websites.append(x)"
   ]
  },
  {
   "cell_type": "code",
   "execution_count": null,
   "id": "2aa64306-29c4-4029-b57d-2316effd5e6f",
   "metadata": {},
   "outputs": [],
   "source": [
    "websites"
   ]
  },
  {
   "cell_type": "code",
   "execution_count": null,
   "id": "94ab4038-cf1d-4ac2-a23e-d7b21c31ddcf",
   "metadata": {},
   "outputs": [],
   "source": [
    "iterable = means indexing is apply."
   ]
  },
  {
   "cell_type": "code",
   "execution_count": null,
   "id": "1a3e5c23-80b7-40fc-b0c4-1f1309feea6b",
   "metadata": {},
   "outputs": [],
   "source": [
    "in = is membership operator"
   ]
  },
  {
   "cell_type": "code",
   "execution_count": null,
   "id": "8338ee5e-8c6e-4c13-b6ee-8b978e4aff1c",
   "metadata": {},
   "outputs": [],
   "source": [
    "permenantely value store use = sqr.append(i**2)"
   ]
  },
  {
   "cell_type": "markdown",
   "id": "257b96c9-68be-418d-b0eb-b451ba38dfa5",
   "metadata": {},
   "source": [
    "**2. Concept:range (n) generates numbers from 0 to -1.**"
   ]
  },
  {
   "cell_type": "code",
   "execution_count": null,
   "id": "90b530c8-d334-436a-9566-45fad77ff788",
   "metadata": {},
   "outputs": [],
   "source": [
    "list(range(1,11))"
   ]
  },
  {
   "cell_type": "code",
   "execution_count": null,
   "id": "ca9e4ca1-88a4-480f-9014-4dfd68857f85",
   "metadata": {},
   "outputs": [],
   "source": [
    "for i in range(1,11):\n",
    "    print(i)"
   ]
  },
  {
   "cell_type": "code",
   "execution_count": null,
   "id": "a1b3e120-ac1e-4e34-93c5-2eb512940cde",
   "metadata": {},
   "outputs": [],
   "source": [
    "for i in range(1,51):\n",
    "    print(i**2, end= ' ')"
   ]
  },
  {
   "cell_type": "code",
   "execution_count": null,
   "id": "2f1eeaab-1dd3-4b48-a0d7-6367135da599",
   "metadata": {},
   "outputs": [],
   "source": [
    "sqr = []\n",
    "\n",
    "for i in range(1,51):\n",
    "    sqr.append(i**2)"
   ]
  },
  {
   "cell_type": "code",
   "execution_count": null,
   "id": "2099a89c-2e62-4f5b-b906-b2430570555c",
   "metadata": {},
   "outputs": [],
   "source": [
    "print(*sqr)"
   ]
  },
  {
   "cell_type": "code",
   "execution_count": null,
   "id": "373893cd-c199-4939-99a7-e9788b9e94d5",
   "metadata": {},
   "outputs": [],
   "source": [
    "print(sqr, end = ' ,')"
   ]
  },
  {
   "cell_type": "markdown",
   "id": "0bf8265c-aa6c-49c4-8e1a-2fea4e3cb9f0",
   "metadata": {},
   "source": [
    "**3. Concept: enumerate() provides both index and value.**"
   ]
  },
  {
   "cell_type": "code",
   "execution_count": null,
   "id": "2b01adee-2615-49fa-b144-fe06bc31a5a2",
   "metadata": {},
   "outputs": [],
   "source": [
    "products = ['pizza','chees bread','coffee','burger','garlic bread']\n",
    "products"
   ]
  },
  {
   "cell_type": "code",
   "execution_count": null,
   "id": "244c46a8-8c83-4703-9d4e-5b291f0cb152",
   "metadata": {},
   "outputs": [],
   "source": [
    "for i in products:\n",
    "    print(i)"
   ]
  },
  {
   "cell_type": "code",
   "execution_count": null,
   "id": "3f8bb0bd-5ab5-4d86-874d-5b913e414331",
   "metadata": {},
   "outputs": [],
   "source": [
    "enumerate(products) this function is use index function"
   ]
  },
  {
   "cell_type": "code",
   "execution_count": null,
   "id": "a224dd01-c114-44f7-afb9-9735d11428d1",
   "metadata": {},
   "outputs": [],
   "source": [
    "print('select your order:')\n",
    "\n",
    "for index,x in enumerate (products,start = 1):\n",
    "    print(index,x)"
   ]
  },
  {
   "cell_type": "code",
   "execution_count": null,
   "id": "e42218ed-a2ec-42a6-9470-15c96a94c192",
   "metadata": {},
   "outputs": [],
   "source": [
    "for index,x in enumerate (products,start = 1):\n",
    "    print(f\"{index}.{x}\")"
   ]
  },
  {
   "cell_type": "markdown",
   "id": "a5f82bb8-fd71-47d1-bb97-dbac1a6e0f7d",
   "metadata": {},
   "source": [
    "# Conditional Statements with Loop"
   ]
  },
  {
   "cell_type": "code",
   "execution_count": null,
   "id": "396f72df-b2d1-4f46-a74e-b720550da300",
   "metadata": {},
   "outputs": [],
   "source": [
    "lst = list(range(1,21))\n",
    "lst"
   ]
  },
  {
   "cell_type": "code",
   "execution_count": null,
   "id": "61b54877-6e5e-416a-823b-3ef6c3880eb4",
   "metadata": {},
   "outputs": [],
   "source": [
    "123457567%2"
   ]
  },
  {
   "cell_type": "code",
   "execution_count": null,
   "id": "855ec564-fb85-4d5e-a39f-68a694586ee5",
   "metadata": {},
   "outputs": [],
   "source": [
    "23454672%2"
   ]
  },
  {
   "cell_type": "code",
   "execution_count": null,
   "id": "314f3cbe-713d-4137-b712-d0f5ab132992",
   "metadata": {},
   "outputs": [],
   "source": [
    "for i in lst:\n",
    "    if i%2 == 0:\n",
    "        print('Even')\n",
    "    else:\n",
    "        print('Odd')"
   ]
  },
  {
   "cell_type": "code",
   "execution_count": null,
   "id": "6f6a177e-a991-449b-89b7-603e74e29031",
   "metadata": {},
   "outputs": [],
   "source": [
    "lst =[45,78,67,90,34,213,567,890,567,345]\n",
    "lst"
   ]
  },
  {
   "cell_type": "code",
   "execution_count": null,
   "id": "ca6220e7-83a1-406b-9a32-95e93e9a57ac",
   "metadata": {},
   "outputs": [],
   "source": [
    "evens = []\n",
    "odd = []"
   ]
  },
  {
   "cell_type": "code",
   "execution_count": null,
   "id": "c8faf64f-0865-4870-8030-daabb23b3f68",
   "metadata": {},
   "outputs": [],
   "source": [
    "for i in lst:\n",
    "    if i%2 == 0:\n",
    "        evens.append(i)\n",
    "    else:\n",
    "        odd.append(i)"
   ]
  },
  {
   "cell_type": "code",
   "execution_count": null,
   "id": "39b3c18c-bb97-4162-bafe-5818b483d1b3",
   "metadata": {},
   "outputs": [],
   "source": [
    "evens,odd"
   ]
  },
  {
   "cell_type": "code",
   "execution_count": null,
   "id": "ed95cb28-0a27-4d02-94d7-5b0cf56e0a16",
   "metadata": {},
   "outputs": [],
   "source": [
    "for i in lst:\n",
    "    if i%2 == 0:\n",
    "        evens.append(i)\n",
    "        print(evens)\n",
    "    else:\n",
    "        odd.append(i)"
   ]
  },
  {
   "cell_type": "markdown",
   "id": "625f8c85-abdd-452b-b2a8-2e4d7e6ecbaf",
   "metadata": {},
   "source": [
    "# Control Statements-Break,Continue."
   ]
  },
  {
   "cell_type": "code",
   "execution_count": null,
   "id": "7a0e277d-bb31-42f6-a21f-1dcb45164279",
   "metadata": {},
   "outputs": [],
   "source": [
    "#transfer statement = break and continue. imp"
   ]
  },
  {
   "cell_type": "code",
   "execution_count": null,
   "id": "275d79fd-a0d8-42c6-8953-2d07998271a5",
   "metadata": {},
   "outputs": [],
   "source": [
    "numbers = [1,2,3,4,5,6,7,8,9]\n",
    "numbers"
   ]
  },
  {
   "cell_type": "code",
   "execution_count": null,
   "id": "8f686483-6e90-445c-b886-28c1e46a63b0",
   "metadata": {},
   "outputs": [],
   "source": [
    "# serching without break\n",
    "\n",
    "for i in numbers:\n",
    "    if i == 5:\n",
    "        print('Found it!')\n",
    "    else:\n",
    "        print('Not 5 numbers')"
   ]
  },
  {
   "cell_type": "code",
   "execution_count": null,
   "id": "81d1f965-cbc0-468c-a52f-0717360c98b4",
   "metadata": {},
   "outputs": [],
   "source": [
    "numbers"
   ]
  },
  {
   "cell_type": "code",
   "execution_count": null,
   "id": "f8bac2e3-ad50-4e9a-bd14-c7a23920d982",
   "metadata": {},
   "outputs": [],
   "source": [
    "for i in numbers:\n",
    "    if i == 5:\n",
    "        print('Found it!')\n",
    "        break\n",
    "    else:\n",
    "        print('Not 5 numbers')"
   ]
  },
  {
   "cell_type": "code",
   "execution_count": null,
   "id": "eb20f1df-62e6-4f55-8ca5-3743f9cfcff4",
   "metadata": {},
   "outputs": [],
   "source": [
    "for i in numbers:\n",
    "    if i == 5:\n",
    "        print('Found it !')\n",
    "        break"
   ]
  },
  {
   "cell_type": "markdown",
   "id": "c6880797-d9dd-4565-81f6-ecd64b2f1153",
   "metadata": {},
   "source": [
    "# Membership Operators"
   ]
  },
  {
   "cell_type": "code",
   "execution_count": null,
   "id": "5d6da0fb-1ff3-4023-b3fe-47fdc8f71629",
   "metadata": {},
   "outputs": [],
   "source": [
    "# in, not in"
   ]
  },
  {
   "cell_type": "code",
   "execution_count": null,
   "id": "71d30fb1-d18b-4560-aba2-f9335c616dbb",
   "metadata": {},
   "outputs": [],
   "source": [
    "txt = 'Python Session'\n",
    "'P' in txt"
   ]
  },
  {
   "cell_type": "code",
   "execution_count": null,
   "id": "89a1ef37-c4b2-44b3-8efa-0f36e3c423a3",
   "metadata": {},
   "outputs": [],
   "source": [
    "'Session' in txt"
   ]
  },
  {
   "cell_type": "code",
   "execution_count": null,
   "id": "4974e67c-a6ef-4251-82b7-9d65c6dbb8c5",
   "metadata": {},
   "outputs": [],
   "source": [
    "numbers"
   ]
  },
  {
   "cell_type": "code",
   "execution_count": null,
   "id": "c8a43860-9bff-458f-a8e0-0145a1ebe9d3",
   "metadata": {},
   "outputs": [],
   "source": [
    "'Python' not in numbers"
   ]
  },
  {
   "cell_type": "markdown",
   "id": "c5b07287-5096-43fc-a5ab-2a3f552ec128",
   "metadata": {},
   "source": [
    "# Login Attempts and check whether username is valid or not"
   ]
  },
  {
   "cell_type": "code",
   "execution_count": null,
   "id": "5c78ecb8-2373-40e6-b393-25a9e044e0f3",
   "metadata": {},
   "outputs": [],
   "source": [
    "users = ['abc','xyz','admin','admin123','xyz123']\n",
    "users"
   ]
  },
  {
   "cell_type": "code",
   "execution_count": null,
   "id": "a14935d4-7185-4aec-9532-3b2540f6500c",
   "metadata": {},
   "outputs": [],
   "source": [
    "#check whether username is valid"
   ]
  },
  {
   "cell_type": "code",
   "execution_count": null,
   "id": "52c5da6a-6c6e-4ed7-adec-ce0cfa8e7f4d",
   "metadata": {},
   "outputs": [],
   "source": [
    "username = input('Enter your username:')\n",
    "\n",
    "if username in users:\n",
    "    print('Login Successful!.')\n",
    "else:\n",
    "    print('Invalid User! Try Again.')"
   ]
  },
  {
   "cell_type": "code",
   "execution_count": null,
   "id": "6532b82b-1343-4bf6-9e43-291d06c27e47",
   "metadata": {},
   "outputs": [],
   "source": [
    "users"
   ]
  },
  {
   "cell_type": "code",
   "execution_count": null,
   "id": "619e8478-f4c4-4880-a8ac-ba39c27a650d",
   "metadata": {},
   "outputs": [],
   "source": [
    "for i in range(1,4):\n",
    "    username = input('Enter your username: ')\n",
    "    if username in users:\n",
    "        print('Login Successful!')\n",
    "        break\n",
    "    else:\n",
    "        print('Invalid User! Try again.')"
   ]
  },
  {
   "cell_type": "markdown",
   "id": "e3cc0449-a22a-4a77-9a12-dde964a084a7",
   "metadata": {},
   "source": [
    "# Continue Statement in python"
   ]
  },
  {
   "cell_type": "markdown",
   "id": "9084bdfd-bead-433e-b55b-bdfc5833786d",
   "metadata": {},
   "source": [
    "**Skip the value from list**"
   ]
  },
  {
   "cell_type": "code",
   "execution_count": null,
   "id": "240bb6ac-0e97-4b45-9d5f-80ef907b82d5",
   "metadata": {},
   "outputs": [],
   "source": [
    "lst = list(range(1,21))\n",
    "lst"
   ]
  },
  {
   "cell_type": "code",
   "execution_count": null,
   "id": "eabee611-86af-4483-b00a-d2588fb6ceb3",
   "metadata": {},
   "outputs": [],
   "source": [
    "#skip number 8\n",
    "\n",
    "for i in lst:\n",
    "    if i == 8:\n",
    "        continue\n",
    "    else:\n",
    "        print(i)\n",
    "    "
   ]
  },
  {
   "cell_type": "code",
   "execution_count": null,
   "id": "e100e62f-e75e-4e38-9c6b-7b20b10478db",
   "metadata": {},
   "outputs": [],
   "source": [
    "for i in lst:\n",
    "    if i < 8:\n",
    "        continue\n",
    "    else:\n",
    "        print(i)"
   ]
  },
  {
   "cell_type": "markdown",
   "id": "e963156e-8750-4498-8331-977ba3d1c3b5",
   "metadata": {},
   "source": [
    "**Filter Emails Spam**"
   ]
  },
  {
   "cell_type": "code",
   "execution_count": null,
   "id": "cc58f0d7-d2ab-4079-b742-8490cca835b8",
   "metadata": {},
   "outputs": [],
   "source": [
    "# type of email\n",
    "1. pramotional\n",
    "2. spam\n",
    "3. regular/ham."
   ]
  },
  {
   "cell_type": "code",
   "execution_count": null,
   "id": "346773bd-326b-4764-8ff4-2d80cb07422a",
   "metadata": {},
   "outputs": [],
   "source": [
    "emails = ['spam-urgent requirement',\n",
    "         'meeting at 10am',\n",
    "         'spam-claim your reward',\n",
    "         'bank statement',\n",
    "         'spam you won!']\n",
    "emails"
   ]
  },
  {
   "cell_type": "code",
   "execution_count": null,
   "id": "2816285b-ea74-4cc1-9df1-81ad504a48b3",
   "metadata": {},
   "outputs": [],
   "source": [
    "emails[0]"
   ]
  },
  {
   "cell_type": "code",
   "execution_count": null,
   "id": "82a80751-d0fc-49c1-be09-85c7553fa29c",
   "metadata": {},
   "outputs": [],
   "source": [
    "for i in emails:\n",
    "    if 'spam' in i:\n",
    "        continue\n",
    "    else:\n",
    "        print(i)"
   ]
  },
  {
   "cell_type": "code",
   "execution_count": null,
   "id": "72468bcf-2941-47d3-bc07-3cb4f5110a5a",
   "metadata": {},
   "outputs": [],
   "source": [
    "for i in emails:\n",
    "    if i.startswith('spam'):\n",
    "        continue\n",
    "    else:\n",
    "        print(i)"
   ]
  },
  {
   "cell_type": "code",
   "execution_count": null,
   "id": "b300970e-9981-494c-bea7-4ac09965a298",
   "metadata": {},
   "outputs": [],
   "source": [
    "emails = ['SPAM-urgent requirement',\n",
    "         'meeting at 10am',\n",
    "         'Spam-claim your reward',\n",
    "         'Bank statement',\n",
    "         'Spam you won!']\n",
    "emails"
   ]
  },
  {
   "cell_type": "code",
   "execution_count": null,
   "id": "7e9c5c5e-ef2b-4021-8dd3-a4428c8e9d0b",
   "metadata": {},
   "outputs": [],
   "source": [
    "for i in emails:\n",
    "    if 'spam'in i.upper():\n",
    "        continue\n",
    "    else:\n",
    "        print(i)"
   ]
  },
  {
   "cell_type": "code",
   "execution_count": null,
   "id": "bee5b4d2-be86-43ba-bd96-59835b0b9c21",
   "metadata": {},
   "outputs": [],
   "source": [
    "for i in emails:\n",
    "    if 'spam'in i.lower():\n",
    "        continue\n",
    "    else:\n",
    "        print(i)"
   ]
  },
  {
   "cell_type": "markdown",
   "id": "66ce87d8-10df-4bca-9bcd-b1457d2c04c3",
   "metadata": {},
   "source": [
    "**Filter Specific Files**"
   ]
  },
  {
   "cell_type": "code",
   "execution_count": null,
   "id": "badb9fc9-6535-4efe-8f6b-dddc3598d9c9",
   "metadata": {},
   "outputs": [],
   "source": [
    "files = ['data.csv','image.png','document.pdf','notes.txt','data2.csv','database.sql','banner.png']\n",
    "files"
   ]
  },
  {
   "cell_type": "code",
   "execution_count": null,
   "id": "55568f42-6262-47c1-aa00-2f7d4843176f",
   "metadata": {},
   "outputs": [],
   "source": [
    "for i in files:\n",
    "    if i.endswith('txt'):\n",
    "        continue\n",
    "    else:\n",
    "        print(i)"
   ]
  },
  {
   "cell_type": "code",
   "execution_count": null,
   "id": "0c7667af-bc49-4bc5-940a-e2f630e321bc",
   "metadata": {},
   "outputs": [],
   "source": [
    "abc = []\n",
    "\n",
    "for i in files:\n",
    "    if i.endswith('txt'):\n",
    "        continue\n",
    "    else:\n",
    "        abc.append(i)"
   ]
  },
  {
   "cell_type": "code",
   "execution_count": null,
   "id": "47eeea47-ff70-4a23-8a56-8cf8425010e1",
   "metadata": {},
   "outputs": [],
   "source": [
    "abc"
   ]
  },
  {
   "cell_type": "markdown",
   "id": "2ce209ed-eef5-4c91-b1e9-4b61f169672e",
   "metadata": {},
   "source": [
    "# List Comprehension"
   ]
  },
  {
   "cell_type": "code",
   "execution_count": null,
   "id": "9dfa9457-1914-4cd1-8975-0e97cd7c1d55",
   "metadata": {},
   "outputs": [],
   "source": [
    "5**2"
   ]
  },
  {
   "cell_type": "code",
   "execution_count": null,
   "id": "1a304a99-e391-4e72-ac52-36d187e0dad0",
   "metadata": {},
   "outputs": [],
   "source": [
    "# with normal for loop\n",
    "sqr = []\n",
    "\n",
    "for i in range(1,21):\n",
    "    sqr.append(i**2)"
   ]
  },
  {
   "cell_type": "code",
   "execution_count": null,
   "id": "963d1c2f-d05e-49b9-9501-62998205367e",
   "metadata": {},
   "outputs": [],
   "source": [
    "print(*sqr)"
   ]
  },
  {
   "cell_type": "code",
   "execution_count": null,
   "id": "3141ff98-c7c4-4cdd-b48d-2cba8ed5bb53",
   "metadata": {},
   "outputs": [],
   "source": [
    "#[output for loop iterable]->syntax(one line)"
   ]
  },
  {
   "cell_type": "code",
   "execution_count": null,
   "id": "1d15a49c-2d9b-44e9-9d6b-3bb57938f10f",
   "metadata": {},
   "outputs": [],
   "source": [
    "abc = [i**2 for i in range(1,21)]"
   ]
  },
  {
   "cell_type": "code",
   "execution_count": null,
   "id": "47767e81-42ef-4dee-a896-11e222aaebc1",
   "metadata": {},
   "outputs": [],
   "source": [
    "print(*abc)"
   ]
  },
  {
   "cell_type": "markdown",
   "id": "40f05b6d-5137-46a0-83f9-ede4b298b8d1",
   "metadata": {},
   "source": [
    "# Convert the statement from  Celsius to Fahrenheit."
   ]
  },
  {
   "cell_type": "markdown",
   "id": "ac6b91b4-7e7c-4193-bae1-37687dd84dd5",
   "metadata": {},
   "source": [
    "**(c*9/5)+32 -> Formula to convert celcius to  fahrenheit.**"
   ]
  },
  {
   "cell_type": "code",
   "execution_count": null,
   "id": "2d2c738e-4cd6-4d01-81b4-1331494a34da",
   "metadata": {},
   "outputs": [],
   "source": [
    "celcius = [0,23,24,34,36,38]\n",
    "celcius"
   ]
  },
  {
   "cell_type": "code",
   "execution_count": null,
   "id": "6065f490-0840-4f32-b023-cdb889b8c391",
   "metadata": {},
   "outputs": [],
   "source": [
    "fah = [(c*9/5)+32 for c in celcius]\n",
    "fah"
   ]
  },
  {
   "cell_type": "markdown",
   "id": "9e5cfc6b-9ed1-4166-9e15-304680c24fcb",
   "metadata": {},
   "source": [
    "**Removing invalid character from list of string.**"
   ]
  },
  {
   "cell_type": "code",
   "execution_count": null,
   "id": "356fef91-0c02-4afb-8294-1cbe2f514ec6",
   "metadata": {},
   "outputs": [],
   "source": [
    "lst = ['-----python---','---is--','fun--','---and--','--easy--']\n",
    "lst"
   ]
  },
  {
   "cell_type": "code",
   "execution_count": null,
   "id": "4c33bc17-66de-4361-8dfe-5ca1f09cf899",
   "metadata": {},
   "outputs": [],
   "source": [
    "[i.strip('-') for i in lst]"
   ]
  },
  {
   "cell_type": "code",
   "execution_count": null,
   "id": "d4a7ed91-8d86-49b3-ac1d-c0453d20bc17",
   "metadata": {},
   "outputs": [],
   "source": [
    "lst = ['!!!python!!!','--is--','fun   ','###and','#easy']\n",
    "lst"
   ]
  },
  {
   "cell_type": "code",
   "execution_count": null,
   "id": "ebef387a-3c47-4402-92f3-bfbafbe6ca3a",
   "metadata": {},
   "outputs": [],
   "source": [
    "cleaned_lst = [i.strip('!-#') for i in lst]\n",
    "cleaned_lst"
   ]
  },
  {
   "cell_type": "code",
   "execution_count": null,
   "id": "93c09aa0-dd49-4b11-b489-5939d14423ce",
   "metadata": {},
   "outputs": [],
   "source": [
    "# Example"
   ]
  },
  {
   "cell_type": "code",
   "execution_count": null,
   "id": "bc2356cb-6dc4-4b81-8c1c-9e8ecbbaa58c",
   "metadata": {},
   "outputs": [],
   "source": [
    "email = ['abc@gmail.com','xyz@yahoo.com','amit@rediffmail.com','nikita@gmail.com']\n",
    "email"
   ]
  },
  {
   "cell_type": "code",
   "execution_count": null,
   "id": "79e354ed-25fc-45f1-acad-175d284bbf5a",
   "metadata": {},
   "outputs": [],
   "source": [
    "abc = 'abc@gmail.com'\n",
    "abc.split('@')[1]"
   ]
  },
  {
   "cell_type": "code",
   "execution_count": null,
   "id": "97e95c2d-f693-479d-88f2-87a2fd1fce12",
   "metadata": {},
   "outputs": [],
   "source": [
    "domain = [i.split('@')[1] for i in email]\n",
    "domain"
   ]
  },
  {
   "cell_type": "code",
   "execution_count": null,
   "id": "695b8816-bb41-4d7a-ad89-b236f6e4f5e8",
   "metadata": {},
   "outputs": [],
   "source": [
    "email = ['abc@gmail.com','xyz@yahoo.com','amit@rediffmail.com','nikita@gmail.com']\n",
    "email"
   ]
  },
  {
   "cell_type": "code",
   "execution_count": null,
   "id": "7d1881d8-7c99-4927-9702-b0f2283b3137",
   "metadata": {},
   "outputs": [],
   "source": [
    "email.split('@')"
   ]
  },
  {
   "cell_type": "markdown",
   "id": "a91c5b9c-609b-4e31-9d5d-527d79256696",
   "metadata": {},
   "source": [
    "# While Loop"
   ]
  },
  {
   "cell_type": "code",
   "execution_count": null,
   "id": "5e6f52fd-69a6-4357-a080-ea57826e6d5d",
   "metadata": {},
   "outputs": [],
   "source": [
    "i = 1\n",
    "i"
   ]
  },
  {
   "cell_type": "code",
   "execution_count": null,
   "id": "a08a62b0-2d5a-4e8e-90a9-13548e1d0d5a",
   "metadata": {},
   "outputs": [],
   "source": [
    "while i < 6:\n",
    "    print(i)\n",
    "    i = i + 1    # Increment."
   ]
  },
  {
   "cell_type": "code",
   "execution_count": null,
   "id": "9dd31b16-154b-4401-b257-7295087d56d9",
   "metadata": {},
   "outputs": [],
   "source": [
    "i = 2\n",
    "i"
   ]
  },
  {
   "cell_type": "code",
   "execution_count": null,
   "id": "c0fc68c6-f995-4cba-9883-1f221da75cea",
   "metadata": {},
   "outputs": [],
   "source": [
    "while i < 11:\n",
    "    print(i)\n",
    "    i = i + 2"
   ]
  },
  {
   "cell_type": "code",
   "execution_count": null,
   "id": "da2d11a3-4376-457d-8b5c-9e1b30bb3203",
   "metadata": {},
   "outputs": [],
   "source": [
    "topics = int(input ('Topics to lern:'))\n",
    "\n",
    "while topics > 0:\n",
    "    print(f'Lerning python. Topics left are{topics-1}')\n",
    "    topics = topics-1\n",
    "print('python completed')"
   ]
  },
  {
   "cell_type": "code",
   "execution_count": null,
   "id": "cc79dac2-2396-4ea8-8f7a-fb560394b51a",
   "metadata": {},
   "outputs": [],
   "source": [
    "topics"
   ]
  },
  {
   "cell_type": "markdown",
   "id": "450b0c63-1145-4d58-b270-e4855b7d70f6",
   "metadata": {},
   "source": [
    "# Nested For Loop"
   ]
  },
  {
   "cell_type": "code",
   "execution_count": null,
   "id": "b8b8a092-0fa9-4ad2-b1a0-62990a27c840",
   "metadata": {},
   "outputs": [],
   "source": [
    "# Imp loop.interview"
   ]
  },
  {
   "cell_type": "code",
   "execution_count": null,
   "id": "2dc6db61-8d62-4511-a1ef-66a692b81cf8",
   "metadata": {},
   "outputs": [],
   "source": [
    "#print function use to start new line."
   ]
  },
  {
   "cell_type": "code",
   "execution_count": null,
   "id": "833d620d-e5ee-43e9-ac26-0b2985442964",
   "metadata": {},
   "outputs": [],
   "source": [
    "# understanding nested lists."
   ]
  },
  {
   "cell_type": "code",
   "execution_count": null,
   "id": "4bc4aeb9-9710-4364-a779-6560a0e72792",
   "metadata": {},
   "outputs": [],
   "source": [
    "lst = [12,12,34,56,78,89]\n",
    "lst"
   ]
  },
  {
   "cell_type": "code",
   "execution_count": null,
   "id": "7331e6fa-559b-49cb-bfe4-77310592ecea",
   "metadata": {},
   "outputs": [],
   "source": [
    "lst1 = [[1,2,3],[4,5,6],[7,8,9]]\n",
    "lst1"
   ]
  },
  {
   "cell_type": "code",
   "execution_count": null,
   "id": "3904ac36-e513-4883-9122-9226c4f1c935",
   "metadata": {},
   "outputs": [],
   "source": [
    "lst1[0]"
   ]
  },
  {
   "cell_type": "code",
   "execution_count": null,
   "id": "89e0c79d-c8d0-48c1-adcc-6dc5a7a100f2",
   "metadata": {},
   "outputs": [],
   "source": [
    "lst1[2]"
   ]
  },
  {
   "cell_type": "code",
   "execution_count": null,
   "id": "28563e47-29d6-48cc-a7c3-230324804385",
   "metadata": {},
   "outputs": [],
   "source": [
    "lst1[1][1]    #Indexing for nested lists "
   ]
  },
  {
   "cell_type": "code",
   "execution_count": null,
   "id": "ee0ace69-6156-46a4-a3c6-056c3a9d1e46",
   "metadata": {},
   "outputs": [],
   "source": [
    "lst1[2][2]"
   ]
  },
  {
   "cell_type": "code",
   "execution_count": null,
   "id": "d975377e-da13-4007-a8d9-f6dea74dd8f0",
   "metadata": {},
   "outputs": [],
   "source": [
    "lst1"
   ]
  },
  {
   "cell_type": "code",
   "execution_count": null,
   "id": "2df44f97-ec4b-4787-bb21-ef362ab1162e",
   "metadata": {},
   "outputs": [],
   "source": [
    "for i in lst1:\n",
    "    print(i)"
   ]
  },
  {
   "cell_type": "code",
   "execution_count": null,
   "id": "384f6427-54b3-4d69-b694-3186e713a54e",
   "metadata": {},
   "outputs": [],
   "source": [
    "lst1"
   ]
  },
  {
   "cell_type": "code",
   "execution_count": null,
   "id": "fae0827d-64e9-438f-9b9d-8bfc6c5fd9a3",
   "metadata": {},
   "outputs": [],
   "source": [
    "for i in lst1:\n",
    "    for j in i:\n",
    "        print(j)"
   ]
  },
  {
   "cell_type": "code",
   "execution_count": null,
   "id": "87fff040-f864-45fb-92b7-a85cf605f1ef",
   "metadata": {},
   "outputs": [],
   "source": [
    "for i in lst1:\n",
    "    for j in i:\n",
    "        print(j, end =' ')"
   ]
  },
  {
   "cell_type": "code",
   "execution_count": null,
   "id": "43a66ee7-ac71-4e79-bb95-a3d36426d335",
   "metadata": {},
   "outputs": [],
   "source": [
    "for i in lst1:\n",
    "    for j in i:\n",
    "        print(j, end = ' ')\n",
    "    print()"
   ]
  },
  {
   "cell_type": "code",
   "execution_count": null,
   "id": "10065d3b-fb4d-42c7-8a05-f8bd89a365c3",
   "metadata": {},
   "outputs": [],
   "source": [
    "# printing box of star pattern"
   ]
  },
  {
   "cell_type": "code",
   "execution_count": null,
   "id": "34a34e9f-2e8a-4a30-a7fc-30f20875e540",
   "metadata": {},
   "outputs": [],
   "source": [
    "# Square Pattern\n",
    "for i in range(1,4):\n",
    "    for j in range(1,4):\n",
    "        print('*', end = ' ')\n",
    "    print()"
   ]
  },
  {
   "cell_type": "code",
   "execution_count": null,
   "id": "fbeec5a8-cbff-44e2-b0e1-1f47f720b7f8",
   "metadata": {},
   "outputs": [],
   "source": [
    "# Rectangle Pattern\n",
    "for i in range(1,4):\n",
    "    for j in range(1,6):\n",
    "        print('*', end =' ')\n",
    "    print()"
   ]
  },
  {
   "cell_type": "code",
   "execution_count": null,
   "id": "f235d583-cf87-459a-8838-03f7e366110b",
   "metadata": {},
   "outputs": [],
   "source": [
    "# Rectangle Triangle."
   ]
  },
  {
   "cell_type": "code",
   "execution_count": null,
   "id": "a59b6a74-d3ac-4c3f-a2c4-4b71df4cf000",
   "metadata": {},
   "outputs": [],
   "source": [
    "for i in range(0,5):\n",
    "    for j in range(i+1):\n",
    "        print('*', end = ' ')\n",
    "    print()"
   ]
  },
  {
   "cell_type": "code",
   "execution_count": null,
   "id": "d8d7901b-d26f-473f-af8d-355707eaadf2",
   "metadata": {},
   "outputs": [],
   "source": [
    "for i in range(6,0,-1):\n",
    "    for j in range(i-1):\n",
    "        print('*', end = ' ')\n",
    "    print()"
   ]
  },
  {
   "cell_type": "code",
   "execution_count": null,
   "id": "9761e4d4-01ac-414b-ab71-ead8a0857032",
   "metadata": {},
   "outputs": [],
   "source": [
    "#Multiplication Table."
   ]
  },
  {
   "cell_type": "code",
   "execution_count": null,
   "id": "ab4c39a0-fff8-41b8-ab42-822ffd590865",
   "metadata": {},
   "outputs": [],
   "source": [
    "for i in range(1,11):\n",
    "    for j in range(1,11):\n",
    "        print(i*j, end = ' ')\n",
    "    print()"
   ]
  },
  {
   "cell_type": "markdown",
   "id": "b7ee3ae6-951d-4ad3-9532-430045a182a6",
   "metadata": {},
   "source": [
    "# Functions"
   ]
  },
  {
   "cell_type": "code",
   "execution_count": 178,
   "id": "49c051e9-1f24-4fe9-8e58-0499d8acf962",
   "metadata": {},
   "outputs": [],
   "source": [
    "# in-build function = print, type, range."
   ]
  },
  {
   "cell_type": "code",
   "execution_count": 180,
   "id": "0d26ee19-5af1-4f94-a396-32d4df106271",
   "metadata": {},
   "outputs": [
    {
     "name": "stdout",
     "output_type": "stream",
     "text": [
      "This is third line\n"
     ]
    }
   ],
   "source": [
    "# Simple Function.\n",
    "\n",
    "def basic_function():\n",
    "    print('This is first line')\n",
    "    print('This is secound line')\n",
    "print('This is third line')        #this line will run as it is outside of the function."
   ]
  },
  {
   "cell_type": "code",
   "execution_count": 182,
   "id": "d1f7b098-ea9c-4a9a-b3b1-c04885429ad0",
   "metadata": {},
   "outputs": [
    {
     "data": {
      "text/plain": [
       "range"
      ]
     },
     "execution_count": 182,
     "metadata": {},
     "output_type": "execute_result"
    }
   ],
   "source": [
    "range"
   ]
  },
  {
   "cell_type": "code",
   "execution_count": 184,
   "id": "6171c485-7bd1-4484-8cf8-e4d15eea66e4",
   "metadata": {},
   "outputs": [
    {
     "name": "stdout",
     "output_type": "stream",
     "text": [
      "This is first line\n",
      "This is secound line\n"
     ]
    }
   ],
   "source": [
    "# Cll Function\n",
    "\n",
    "basic_function()"
   ]
  },
  {
   "cell_type": "code",
   "execution_count": 186,
   "id": "c161ded5-2660-4786-a1e8-dd80d0af3c8e",
   "metadata": {},
   "outputs": [],
   "source": [
    "# Docstring"
   ]
  },
  {
   "cell_type": "code",
   "execution_count": 203,
   "id": "8729b65c-b15d-43b7-a7c9-599fa96c7aa6",
   "metadata": {},
   "outputs": [],
   "source": [
    "def addition():\n",
    "    '''This function will add 7987 and 987.\n",
    "    this will always return the output \n",
    "    as 8974.'''\n",
    "    print(7987+987)\n",
    "    "
   ]
  },
  {
   "cell_type": "code",
   "execution_count": 205,
   "id": "d3ee791d-3644-4578-b6f0-5da05265228b",
   "metadata": {},
   "outputs": [
    {
     "name": "stdout",
     "output_type": "stream",
     "text": [
      "8974\n"
     ]
    }
   ],
   "source": [
    "addition()"
   ]
  },
  {
   "cell_type": "code",
   "execution_count": 241,
   "id": "0a83ce97-4c85-4603-a48c-794992ae5409",
   "metadata": {},
   "outputs": [
    {
     "name": "stdout",
     "output_type": "stream",
     "text": [
      "        * \n",
      "      * * * \n",
      "    * * * * * \n",
      "  * * * * * * * \n",
      "* * * * * * * * * \n"
     ]
    }
   ],
   "source": [
    "rows = 5\n",
    "for i in range(rows):\n",
    "    for j in range(rows-i-1):\n",
    "        print(\" \", end=\" \")\n",
    "    for k in range(2*i+1):\n",
    "        print(\"*\", end= \" \")\n",
    "    print()"
   ]
  },
  {
   "cell_type": "code",
   "execution_count": 210,
   "id": "70aa4b49-013e-4f51-a7de-49e0bd223b2d",
   "metadata": {},
   "outputs": [
    {
     "name": "stdout",
     "output_type": "stream",
     "text": [
      "* \n",
      "* * \n",
      "* * * \n",
      "* * * * \n",
      "* * * * * \n",
      "* * * * * * \n"
     ]
    }
   ],
   "source": [
    "for i in range(0,6):\n",
    "    for j in range(i+1):\n",
    "        print('*', end =' ')\n",
    "    print()\n",
    "    "
   ]
  },
  {
   "cell_type": "code",
   "execution_count": 194,
   "id": "51812ee1-ddfa-417d-b97e-a8c367ba7e54",
   "metadata": {},
   "outputs": [],
   "source": [
    "# range function is dynamic type function"
   ]
  },
  {
   "cell_type": "code",
   "execution_count": 243,
   "id": "b125c086-ccde-44d4-a7e4-f1e76138fe8b",
   "metadata": {},
   "outputs": [],
   "source": [
    "# Function with parameters  $ arguments(Dynamic function)\n",
    "\n",
    "def dynamic(x,y):\n",
    "    print(x+y)\n",
    "    print(x-y)\n",
    "    print(x*y)\n",
    "    print(x/y)"
   ]
  },
  {
   "cell_type": "code",
   "execution_count": 245,
   "id": "d3c862b2-31da-4d9f-a225-0d20d06ed0b0",
   "metadata": {},
   "outputs": [
    {
     "name": "stdout",
     "output_type": "stream",
     "text": [
      "1576\n",
      "-220\n",
      "608844\n",
      "0.755011135857461\n"
     ]
    }
   ],
   "source": [
    "dynamic(678,898)"
   ]
  },
  {
   "cell_type": "code",
   "execution_count": 247,
   "id": "e183018a-b64f-4dd3-9f38-dd44b4bf4c5a",
   "metadata": {},
   "outputs": [
    {
     "name": "stdout",
     "output_type": "stream",
     "text": [
      "156\n",
      "22\n",
      "5963\n",
      "1.328358208955224\n"
     ]
    }
   ],
   "source": [
    "dynamic(89,67)"
   ]
  },
  {
   "cell_type": "markdown",
   "id": "52eca77a-2888-4f7c-a32d-f4062beaf3a8",
   "metadata": {},
   "source": [
    "# *args."
   ]
  },
  {
   "cell_type": "code",
   "execution_count": 1,
   "id": "8e30e909-3321-4a65-8402-0b79b7e0e889",
   "metadata": {},
   "outputs": [],
   "source": [
    "#args = argument."
   ]
  },
  {
   "cell_type": "code",
   "execution_count": 3,
   "id": "d6f6fe87-8b14-491b-9efc-3537326519e6",
   "metadata": {},
   "outputs": [],
   "source": [
    "def add(*args):       # *this symbol is use to 1st *args\n",
    "    print(args)\n",
    "    print(sum(args))"
   ]
  },
  {
   "cell_type": "code",
   "execution_count": 5,
   "id": "dd029f41-bc69-4033-a4b2-a2e402713251",
   "metadata": {},
   "outputs": [
    {
     "name": "stdout",
     "output_type": "stream",
     "text": [
      "(12, 45, 67)\n",
      "124\n"
     ]
    }
   ],
   "source": [
    "add (12,45,67)"
   ]
  },
  {
   "cell_type": "code",
   "execution_count": 7,
   "id": "d18e9d30-a318-44ca-827b-5070f4b990ca",
   "metadata": {},
   "outputs": [],
   "source": [
    "# palindrom = starting and ending word is same  for ex= wow."
   ]
  },
  {
   "cell_type": "code",
   "execution_count": 9,
   "id": "fc15d569-5d3d-4ce8-8ce7-4f21dfeb5d2e",
   "metadata": {},
   "outputs": [],
   "source": [
    "def sentence(*words):\n",
    "    print(' '.join(words))\n"
   ]
  },
  {
   "cell_type": "code",
   "execution_count": 11,
   "id": "b4cf08d8-f702-4a25-bbda-615acfdbff12",
   "metadata": {},
   "outputs": [
    {
     "name": "stdout",
     "output_type": "stream",
     "text": [
      "we are lerning python and it is easy\n"
     ]
    }
   ],
   "source": [
    "sentence ('we', 'are','lerning','python','and','it','is','easy')"
   ]
  },
  {
   "cell_type": "code",
   "execution_count": 13,
   "id": "2b670748-ff1b-473a-bd34-4ccbe934818f",
   "metadata": {},
   "outputs": [],
   "source": [
    "# palindrom word"
   ]
  },
  {
   "cell_type": "code",
   "execution_count": 15,
   "id": "8388d9e9-2510-4e5a-b4aa-276adcff64fa",
   "metadata": {},
   "outputs": [],
   "source": [
    "# Reversing string"
   ]
  },
  {
   "cell_type": "code",
   "execution_count": 17,
   "id": "0d3470b1-2d37-4b9c-be79-95cc3624b6cd",
   "metadata": {},
   "outputs": [
    {
     "data": {
      "text/plain": [
       "'olleH'"
      ]
     },
     "execution_count": 17,
     "metadata": {},
     "output_type": "execute_result"
    }
   ],
   "source": [
    "txt = 'Hello'\n",
    "txt[::-1]"
   ]
  },
  {
   "cell_type": "code",
   "execution_count": 19,
   "id": "c06b3964-1a15-45a9-8a6f-3971cc0e6eb2",
   "metadata": {},
   "outputs": [
    {
     "data": {
      "text/plain": [
       "False"
      ]
     },
     "execution_count": 19,
     "metadata": {},
     "output_type": "execute_result"
    }
   ],
   "source": [
    "txt == txt[::-1]"
   ]
  },
  {
   "cell_type": "code",
   "execution_count": 21,
   "id": "91f6e667-4385-498c-9d11-bda418f63d21",
   "metadata": {},
   "outputs": [],
   "source": [
    "def palindrom_checker(word):\n",
    "    if word == word[::-1]:\n",
    "        print('palindrom word')\n",
    "    else:\n",
    "        print('Not a palindrom')\n",
    "        "
   ]
  },
  {
   "cell_type": "code",
   "execution_count": 23,
   "id": "ff07b2f9-0f99-40fd-9f92-31aa4425dc81",
   "metadata": {},
   "outputs": [
    {
     "name": "stdout",
     "output_type": "stream",
     "text": [
      "Not a palindrom\n"
     ]
    }
   ],
   "source": [
    "palindrom_checker('Hello')"
   ]
  },
  {
   "cell_type": "code",
   "execution_count": 25,
   "id": "d50f1140-7c8d-4494-ae3c-8a749e468436",
   "metadata": {},
   "outputs": [
    {
     "name": "stdout",
     "output_type": "stream",
     "text": [
      "palindrom word\n"
     ]
    }
   ],
   "source": [
    "palindrom_checker('level')"
   ]
  },
  {
   "cell_type": "code",
   "execution_count": 251,
   "id": "0ee98cdb-9d02-4596-bc9d-1788585aa398",
   "metadata": {},
   "outputs": [],
   "source": [
    "def palindrom_checker(word):\n",
    "    word = word.lower()\n",
    "    if word == word[::-1]:\n",
    "        print('palindrom word')\n",
    "    else:\n",
    "        print('Not a palindrom')"
   ]
  },
  {
   "cell_type": "code",
   "execution_count": 253,
   "id": "901d7f49-8844-4b13-8310-4405280bd0ff",
   "metadata": {},
   "outputs": [
    {
     "name": "stdout",
     "output_type": "stream",
     "text": [
      "palindrom word\n"
     ]
    }
   ],
   "source": [
    "palindrom_checker('Level')"
   ]
  },
  {
   "cell_type": "code",
   "execution_count": 255,
   "id": "f4386b48-4b2c-4ae3-a057-1257c2bc7ccf",
   "metadata": {},
   "outputs": [],
   "source": [
    "# taking a parameter and arguments.\n",
    "\n",
    "def order_info(customer_id,*products):\n",
    "    print(f'customer {customer_id} has ordered{products}')"
   ]
  },
  {
   "cell_type": "code",
   "execution_count": 257,
   "id": "d10ef7ff-a0f2-4c36-9fec-4803fcc065a5",
   "metadata": {},
   "outputs": [
    {
     "name": "stdout",
     "output_type": "stream",
     "text": [
      "customer 890 has ordered('chrger', 'wire')\n"
     ]
    }
   ],
   "source": [
    "order_info(890,'chrger','wire')"
   ]
  },
  {
   "cell_type": "code",
   "execution_count": 261,
   "id": "638b04a3-1c53-4f40-a76e-3f0f3718aa11",
   "metadata": {},
   "outputs": [
    {
     "data": {
      "text/plain": [
       "2"
      ]
     },
     "execution_count": 261,
     "metadata": {},
     "output_type": "execute_result"
    }
   ],
   "source": [
    "i = 2\n",
    "i"
   ]
  },
  {
   "cell_type": "code",
   "execution_count": 263,
   "id": "26161c70-2a2b-427c-81a3-c1872e15b524",
   "metadata": {},
   "outputs": [
    {
     "name": "stdout",
     "output_type": "stream",
     "text": [
      "2\n",
      "4\n",
      "6\n",
      "8\n",
      "10\n",
      "12\n",
      "14\n",
      "16\n",
      "18\n",
      "20\n"
     ]
    }
   ],
   "source": [
    "while i <=20:\n",
    "    print(i)\n",
    "    i+=2"
   ]
  },
  {
   "cell_type": "markdown",
   "id": "6887ca72-3b7f-4685-aa7a-b48b390b1cd5",
   "metadata": {},
   "source": [
    "# **Kwargs (Key-Word argument)."
   ]
  },
  {
   "cell_type": "code",
   "execution_count": 265,
   "id": "ea53f869-adef-47ee-a24b-7bf3ce54e173",
   "metadata": {},
   "outputs": [
    {
     "data": {
      "text/plain": [
       "{'Name': 'Nikita', 'Age': 23, 'City': 'Pune'}"
      ]
     },
     "execution_count": 265,
     "metadata": {},
     "output_type": "execute_result"
    }
   ],
   "source": [
    "details = {'Name':'Nikita','Age':23,'City':'Pune'}\n",
    "details"
   ]
  },
  {
   "cell_type": "code",
   "execution_count": 267,
   "id": "d7893f7f-2dbf-45bc-9f7d-c8f00d5e764d",
   "metadata": {},
   "outputs": [
    {
     "data": {
      "text/plain": [
       "dict_values(['Nikita', 23, 'Pune'])"
      ]
     },
     "execution_count": 267,
     "metadata": {},
     "output_type": "execute_result"
    }
   ],
   "source": [
    "details.values()"
   ]
  },
  {
   "cell_type": "code",
   "execution_count": 269,
   "id": "6cdd4914-8048-4088-9c2b-c260bb88ef26",
   "metadata": {},
   "outputs": [
    {
     "data": {
      "text/plain": [
       "dict_keys(['Name', 'Age', 'City'])"
      ]
     },
     "execution_count": 269,
     "metadata": {},
     "output_type": "execute_result"
    }
   ],
   "source": [
    "details.keys()"
   ]
  },
  {
   "cell_type": "code",
   "execution_count": 271,
   "id": "0bfcbe70-b217-4e11-86bc-c6a859c8a1f9",
   "metadata": {},
   "outputs": [
    {
     "data": {
      "text/plain": [
       "dict_items([('Name', 'Nikita'), ('Age', 23), ('City', 'Pune')])"
      ]
     },
     "execution_count": 271,
     "metadata": {},
     "output_type": "execute_result"
    }
   ],
   "source": [
    "details.items()"
   ]
  },
  {
   "cell_type": "code",
   "execution_count": 273,
   "id": "062c122a-3f08-4ea4-8fae-01504779f779",
   "metadata": {},
   "outputs": [],
   "source": [
    "def info(**kwargs):\n",
    "    print(kwargs)"
   ]
  },
  {
   "cell_type": "code",
   "execution_count": 275,
   "id": "4bd1acbf-2534-4409-8a43-e477e95e907d",
   "metadata": {},
   "outputs": [
    {
     "name": "stdout",
     "output_type": "stream",
     "text": [
      "{'Name': 'Anita', 'Course': 'DS', 'Age': 25}\n"
     ]
    }
   ],
   "source": [
    "info(Name = 'Anita', Course = 'DS',Age = 25)"
   ]
  },
  {
   "cell_type": "code",
   "execution_count": 277,
   "id": "1ecb89ca-19f6-419d-9d1d-072a69027000",
   "metadata": {},
   "outputs": [],
   "source": [
    "def info(**x):\n",
    "    for key in x.keys():\n",
    "        print(key)"
   ]
  },
  {
   "cell_type": "code",
   "execution_count": 279,
   "id": "8999fa4c-95ae-4607-b62a-faf227ab5e13",
   "metadata": {},
   "outputs": [
    {
     "name": "stdout",
     "output_type": "stream",
     "text": [
      "Name\n",
      "Course\n",
      "Age\n"
     ]
    }
   ],
   "source": [
    "info(Name = 'Anita', Course = 'DS',Age = 25)"
   ]
  },
  {
   "cell_type": "code",
   "execution_count": 281,
   "id": "33066c4e-fa2b-4621-a2b7-a8204d0cde6f",
   "metadata": {},
   "outputs": [],
   "source": [
    "def info(**x):\n",
    "    for value in x.values():\n",
    "        print(value)"
   ]
  },
  {
   "cell_type": "code",
   "execution_count": 283,
   "id": "ff6ee113-bbc7-4e76-95ff-fe1ab8a94fb5",
   "metadata": {},
   "outputs": [
    {
     "name": "stdout",
     "output_type": "stream",
     "text": [
      "Anita\n",
      "DS\n",
      "25\n"
     ]
    }
   ],
   "source": [
    "info(Name = 'Anita', Course = 'DS',Age = 25)"
   ]
  },
  {
   "cell_type": "code",
   "execution_count": 285,
   "id": "15d43ba8-938c-4dd4-af08-30884086c766",
   "metadata": {},
   "outputs": [],
   "source": [
    "def info(**details):\n",
    "    for key, value in details.items():\n",
    "        print(f\"key is {key} and its {value} is {value}\")"
   ]
  },
  {
   "cell_type": "code",
   "execution_count": 287,
   "id": "ce75ced2-ef53-4f97-9b15-bb94b18b5fac",
   "metadata": {},
   "outputs": [
    {
     "name": "stdout",
     "output_type": "stream",
     "text": [
      "key is name and its Anita is Anita\n",
      "key is Course and its DS is DS\n",
      "key is Age and its 25 is 25\n"
     ]
    }
   ],
   "source": [
    "info(name = 'Anita',Course = 'DS', Age = 25)"
   ]
  },
  {
   "cell_type": "code",
   "execution_count": 289,
   "id": "9c3abc69-889a-41c6-9806-f567d7d7ec28",
   "metadata": {},
   "outputs": [],
   "source": [
    "#Example\n",
    "\n",
    "def order(**kwargs):\n",
    "    print('Order Summery: ')\n",
    "    for key, value in kwargs.items():\n",
    "        print(f\"customer has ordered {value} {key}\")"
   ]
  },
  {
   "cell_type": "code",
   "execution_count": 291,
   "id": "caf921a7-deb8-46ee-bec2-0851bf72385c",
   "metadata": {},
   "outputs": [
    {
     "name": "stdout",
     "output_type": "stream",
     "text": [
      "Order Summery: \n",
      "customer has ordered 2 pizza\n",
      "customer has ordered 3 coffee\n",
      "customer has ordered 4 burger\n"
     ]
    }
   ],
   "source": [
    "order(pizza = 2, coffee=3, burger = 4)"
   ]
  },
  {
   "cell_type": "code",
   "execution_count": 293,
   "id": "e209f721-e39f-4b46-94f6-448b5e57b5f0",
   "metadata": {},
   "outputs": [],
   "source": [
    " # * use argument ,** use keyword argument."
   ]
  },
  {
   "cell_type": "code",
   "execution_count": 295,
   "id": "e10e8179-6d28-4f5e-97d8-6d8fe652236b",
   "metadata": {},
   "outputs": [],
   "source": [
    "def registration(Name,*topics,**details):\n",
    "    print(f\"Name is {Name}\")\n",
    "    print(f\"Interested topics = {topics}\")\n",
    "    print('-'*50)\n",
    "    print('Additional Details: ')\n",
    "    for key,value in details.items():\n",
    "        print(f\"{key} = {value}\")"
   ]
  },
  {
   "cell_type": "code",
   "execution_count": 297,
   "id": "a3b5efda-860d-49c8-bc17-11a162120357",
   "metadata": {},
   "outputs": [
    {
     "name": "stdout",
     "output_type": "stream",
     "text": [
      "Name is Aniket\n",
      "Interested topics = ('AI', 'GenAi', 'Data Science')\n",
      "--------------------------------------------------\n",
      "Additional Details: \n",
      "Email = Aniket@gmail.com\n",
      "Experiance = 5\n",
      "Profession = DA\n"
     ]
    }
   ],
   "source": [
    "registration('Aniket','AI','GenAi','Data Science',Email = 'Aniket@gmail.com',Experiance = 5,Profession = 'DA')"
   ]
  },
  {
   "cell_type": "markdown",
   "id": "406419d5-8f56-4da7-9b6c-70ff28b21d2e",
   "metadata": {},
   "source": [
    "# Print and Return."
   ]
  },
  {
   "cell_type": "code",
   "execution_count": 300,
   "id": "038aa658-0e37-4c19-af79-9698cb8e5908",
   "metadata": {},
   "outputs": [],
   "source": [
    "# print is finction and return is keyword."
   ]
  },
  {
   "cell_type": "code",
   "execution_count": 302,
   "id": "e50192eb-bda4-4e24-bf03-288280934a07",
   "metadata": {},
   "outputs": [],
   "source": [
    "def print_bill(quantity):       # print function is temporary value and not save value.\n",
    "    print(quantity*2)"
   ]
  },
  {
   "cell_type": "code",
   "execution_count": 304,
   "id": "0ea6609f-09e3-4715-aab8-35df7190a3b2",
   "metadata": {},
   "outputs": [],
   "source": [
    "def return_bill(quantity):     # return finction is save value permanantely.\n",
    "    return quantity*2"
   ]
  },
  {
   "cell_type": "code",
   "execution_count": 306,
   "id": "476582bc-52db-4681-b30c-bab0f1278fe7",
   "metadata": {},
   "outputs": [
    {
     "name": "stdout",
     "output_type": "stream",
     "text": [
      "20\n"
     ]
    }
   ],
   "source": [
    "total = print_bill(10)"
   ]
  },
  {
   "cell_type": "code",
   "execution_count": 79,
   "id": "18d41755-371b-4bca-a8a8-f9c4ccc1deca",
   "metadata": {},
   "outputs": [],
   "source": [
    "total     # print function gives none value."
   ]
  },
  {
   "cell_type": "code",
   "execution_count": 81,
   "id": "652474be-b0dd-496a-a64a-a26fc0c04034",
   "metadata": {},
   "outputs": [
    {
     "name": "stdout",
     "output_type": "stream",
     "text": [
      " your total bill is None\n"
     ]
    }
   ],
   "source": [
    "print(f\" your total bill is {total}\")"
   ]
  },
  {
   "cell_type": "code",
   "execution_count": 83,
   "id": "2be13fc5-5afd-4be9-9f79-2fd082f282c8",
   "metadata": {},
   "outputs": [],
   "source": [
    "bill = return_bill(34)"
   ]
  },
  {
   "cell_type": "code",
   "execution_count": 85,
   "id": "3ce25f7d-b04f-4ba0-adf1-9bc5d8eeb78f",
   "metadata": {},
   "outputs": [
    {
     "name": "stdout",
     "output_type": "stream",
     "text": [
      " your total bill is 68\n"
     ]
    }
   ],
   "source": [
    "print(f\" your total bill is {bill}\")"
   ]
  },
  {
   "cell_type": "code",
   "execution_count": 87,
   "id": "ad47b7ac-acab-4230-be64-0b0de651f650",
   "metadata": {},
   "outputs": [
    {
     "data": {
      "text/plain": [
       "68"
      ]
     },
     "execution_count": 87,
     "metadata": {},
     "output_type": "execute_result"
    }
   ],
   "source": [
    "bill"
   ]
  },
  {
   "cell_type": "code",
   "execution_count": 89,
   "id": "b39cd78a-f95b-4e5e-b5cc-009ea85180cc",
   "metadata": {},
   "outputs": [],
   "source": [
    "# Diffrance betn parameters, argument and keyword"
   ]
  },
  {
   "cell_type": "markdown",
   "id": "639e8c7a-a2f0-466b-85ac-41f692931bb4",
   "metadata": {},
   "source": [
    "# 3. Lambda Function."
   ]
  },
  {
   "cell_type": "code",
   "execution_count": 92,
   "id": "bc6a2df3-e58c-41a2-9e17-c1414b69e441",
   "metadata": {},
   "outputs": [],
   "source": [
    "# Examples.\n",
    "\n",
    "def square(number):\n",
    "    print(number**2)"
   ]
  },
  {
   "cell_type": "code",
   "execution_count": 94,
   "id": "d87f8c80-0a04-476d-a1a6-aa34942f190d",
   "metadata": {},
   "outputs": [
    {
     "name": "stdout",
     "output_type": "stream",
     "text": [
      "64\n"
     ]
    }
   ],
   "source": [
    "square(8)"
   ]
  },
  {
   "cell_type": "code",
   "execution_count": 96,
   "id": "ee25072f-639f-48a3-8315-367cbb1e24f2",
   "metadata": {},
   "outputs": [
    {
     "data": {
      "text/plain": [
       "<function __main__.square(number)>"
      ]
     },
     "execution_count": 96,
     "metadata": {},
     "output_type": "execute_result"
    }
   ],
   "source": [
    "square"
   ]
  },
  {
   "cell_type": "code",
   "execution_count": 98,
   "id": "d58b132b-cd71-4671-8167-f0642f9a1ba8",
   "metadata": {},
   "outputs": [
    {
     "data": {
      "text/plain": [
       "<function __main__.<lambda>(x)>"
      ]
     },
     "execution_count": 98,
     "metadata": {},
     "output_type": "execute_result"
    }
   ],
   "source": [
    "lambda x:x**2"
   ]
  },
  {
   "cell_type": "code",
   "execution_count": 100,
   "id": "33c89438-7db3-4b71-bd50-992797eae15b",
   "metadata": {},
   "outputs": [],
   "source": [
    "sqr = lambda x : x**2"
   ]
  },
  {
   "cell_type": "code",
   "execution_count": 102,
   "id": "57cd3758-a954-4173-a0b0-c8e596cd5b29",
   "metadata": {},
   "outputs": [
    {
     "data": {
      "text/plain": [
       "<function __main__.<lambda>(x)>"
      ]
     },
     "execution_count": 102,
     "metadata": {},
     "output_type": "execute_result"
    }
   ],
   "source": [
    "sqr"
   ]
  },
  {
   "cell_type": "code",
   "execution_count": 104,
   "id": "3c418814-0137-4132-9958-25abae448750",
   "metadata": {},
   "outputs": [
    {
     "data": {
      "text/plain": [
       "3136"
      ]
     },
     "execution_count": 104,
     "metadata": {},
     "output_type": "execute_result"
    }
   ],
   "source": [
    "sqr(56)"
   ]
  },
  {
   "cell_type": "code",
   "execution_count": 106,
   "id": "e36c0d99-5a24-40e7-b7ab-805a72b95696",
   "metadata": {},
   "outputs": [
    {
     "data": {
      "text/plain": [
       "49"
      ]
     },
     "execution_count": 106,
     "metadata": {},
     "output_type": "execute_result"
    }
   ],
   "source": [
    "sqr(7)"
   ]
  },
  {
   "cell_type": "code",
   "execution_count": 108,
   "id": "8dbce6f6-a8d6-4c4e-a7bc-d623dd549787",
   "metadata": {},
   "outputs": [],
   "source": [
    "add = lambda x,y : x + y"
   ]
  },
  {
   "cell_type": "code",
   "execution_count": 110,
   "id": "982b5da5-e46b-4ef3-9f72-6da22a8ae3ec",
   "metadata": {},
   "outputs": [
    {
     "data": {
      "text/plain": [
       "<function __main__.<lambda>(x, y)>"
      ]
     },
     "execution_count": 110,
     "metadata": {},
     "output_type": "execute_result"
    }
   ],
   "source": [
    "add"
   ]
  },
  {
   "cell_type": "code",
   "execution_count": 112,
   "id": "1b2d389e-b267-46a6-9ca2-c0bcb7ee54ec",
   "metadata": {},
   "outputs": [
    {
     "data": {
      "text/plain": [
       "157"
      ]
     },
     "execution_count": 112,
     "metadata": {},
     "output_type": "execute_result"
    }
   ],
   "source": [
    "add(67,90)"
   ]
  },
  {
   "cell_type": "code",
   "execution_count": 114,
   "id": "c7aaf062-e784-4371-a55d-450c568f1592",
   "metadata": {},
   "outputs": [
    {
     "data": {
      "text/plain": [
       "<function __main__.<lambda>(*words)>"
      ]
     },
     "execution_count": 114,
     "metadata": {},
     "output_type": "execute_result"
    }
   ],
   "source": [
    "abc = lambda *words :' '.join(words)\n",
    "abc"
   ]
  },
  {
   "cell_type": "code",
   "execution_count": 116,
   "id": "b1adb2c6-0012-4150-96d6-623165df2b60",
   "metadata": {},
   "outputs": [
    {
     "data": {
      "text/plain": [
       "'we are learning lambda functions'"
      ]
     },
     "execution_count": 116,
     "metadata": {},
     "output_type": "execute_result"
    }
   ],
   "source": [
    "abc('we','are','learning','lambda','functions')"
   ]
  },
  {
   "cell_type": "markdown",
   "id": "60f192f3-06d6-4370-ba19-f61f2d0ee483",
   "metadata": {},
   "source": [
    "# Map ,Filter Functions."
   ]
  },
  {
   "cell_type": "code",
   "execution_count": 119,
   "id": "0c04e54d-1f25-445a-8479-3005cccb9532",
   "metadata": {},
   "outputs": [
    {
     "data": {
      "text/plain": [
       "[12, 45, 67, 89, 90, 23, 34, 56, 67]"
      ]
     },
     "execution_count": 119,
     "metadata": {},
     "output_type": "execute_result"
    }
   ],
   "source": [
    "lst= [12,45,67,89,90,23,34,56,67]\n",
    "lst"
   ]
  },
  {
   "cell_type": "code",
   "execution_count": 121,
   "id": "cf335ca5-2ea1-4957-a05b-06d3311302b9",
   "metadata": {},
   "outputs": [],
   "source": [
    "def square(number):\n",
    "    return number**2"
   ]
  },
  {
   "cell_type": "code",
   "execution_count": 123,
   "id": "3700bbf4-e208-4270-a2e4-e319bbdde1ae",
   "metadata": {},
   "outputs": [],
   "source": [
    "# map(function,iterable)  -> syntax in map function."
   ]
  },
  {
   "cell_type": "code",
   "execution_count": 125,
   "id": "2c9fd1aa-1b46-4dac-aa3c-23f7274bea79",
   "metadata": {},
   "outputs": [
    {
     "data": {
      "text/plain": [
       "<map at 0x17c25f06d40>"
      ]
     },
     "execution_count": 125,
     "metadata": {},
     "output_type": "execute_result"
    }
   ],
   "source": [
    "map(square,lst)"
   ]
  },
  {
   "cell_type": "code",
   "execution_count": 127,
   "id": "64ff3477-466c-4a57-bd01-126cf6a31c2d",
   "metadata": {},
   "outputs": [
    {
     "data": {
      "text/plain": [
       "[1, 2, 3, 4, 5, 6, 7, 8, 9, 10, 11, 12, 13, 14, 15, 16, 17, 18, 19, 20]"
      ]
     },
     "execution_count": 127,
     "metadata": {},
     "output_type": "execute_result"
    }
   ],
   "source": [
    "list(range(1,21))"
   ]
  },
  {
   "cell_type": "code",
   "execution_count": 129,
   "id": "39475a2a-f794-45c5-b9ee-247ebf4148c3",
   "metadata": {},
   "outputs": [
    {
     "data": {
      "text/plain": [
       "[144, 2025, 4489, 7921, 8100, 529, 1156, 3136, 4489]"
      ]
     },
     "execution_count": 129,
     "metadata": {},
     "output_type": "execute_result"
    }
   ],
   "source": [
    "sqrd = list(map(square,lst))\n",
    "sqrd"
   ]
  },
  {
   "cell_type": "code",
   "execution_count": 131,
   "id": "f8023e99-aab4-4b2f-9074-a135d2e05d72",
   "metadata": {},
   "outputs": [
    {
     "data": {
      "text/plain": [
       "['10', '67', '89', '90', '45']"
      ]
     },
     "execution_count": 131,
     "metadata": {},
     "output_type": "execute_result"
    }
   ],
   "source": [
    "# task\n",
    "\n",
    "numbers = ['10','67','89','90','45']\n",
    "numbers"
   ]
  },
  {
   "cell_type": "code",
   "execution_count": 133,
   "id": "12c27d0a-0ae8-4120-bf9a-996538cb65b6",
   "metadata": {},
   "outputs": [
    {
     "data": {
      "text/plain": [
       "<map at 0x17c260d78e0>"
      ]
     },
     "execution_count": 133,
     "metadata": {},
     "output_type": "execute_result"
    }
   ],
   "source": [
    "map(numbers,lst)"
   ]
  },
  {
   "cell_type": "code",
   "execution_count": 135,
   "id": "0cc68e97-1b85-4049-85d7-b8aec9d91732",
   "metadata": {},
   "outputs": [
    {
     "data": {
      "text/plain": [
       "[10, 67, 89, 90, 45]"
      ]
     },
     "execution_count": 135,
     "metadata": {},
     "output_type": "execute_result"
    }
   ],
   "source": [
    "\n",
    "list(map(int,numbers))"
   ]
  },
  {
   "cell_type": "code",
   "execution_count": 137,
   "id": "0859760d-416b-4d8d-ae81-9933cb8c6843",
   "metadata": {},
   "outputs": [
    {
     "data": {
      "text/plain": [
       "[56, -67, 45, 89, 0, 45, -1, -23, -24, -78]"
      ]
     },
     "execution_count": 137,
     "metadata": {},
     "output_type": "execute_result"
    }
   ],
   "source": [
    "# Filter.\n",
    "\n",
    "lst = [56,-67,45,89,0,45,-1,-23,-24,-78]\n",
    "lst"
   ]
  },
  {
   "cell_type": "code",
   "execution_count": 139,
   "id": "e673165a-3eed-4dfc-b406-69e9ebd97a7e",
   "metadata": {},
   "outputs": [],
   "source": [
    "positive = []\n",
    "\n",
    "for i in lst:\n",
    "    if i>0:\n",
    "        positive.append(i)"
   ]
  },
  {
   "cell_type": "code",
   "execution_count": 141,
   "id": "27107a9c-3f05-4f7f-b837-bc679c9e05fa",
   "metadata": {},
   "outputs": [
    {
     "data": {
      "text/plain": [
       "[56, 45, 89, 45]"
      ]
     },
     "execution_count": 141,
     "metadata": {},
     "output_type": "execute_result"
    }
   ],
   "source": [
    "positive"
   ]
  },
  {
   "cell_type": "code",
   "execution_count": 143,
   "id": "d5db1e6b-59eb-4c60-9c23-6937b33676c7",
   "metadata": {},
   "outputs": [],
   "source": [
    "# list(filter(function,iterable))   -> syntax of filter."
   ]
  },
  {
   "cell_type": "code",
   "execution_count": 145,
   "id": "97627fe3-e88d-4e52-b1d2-630b7819469f",
   "metadata": {},
   "outputs": [],
   "source": [
    "def positive(number):\n",
    "    if number >=0:\n",
    "        return number"
   ]
  },
  {
   "cell_type": "code",
   "execution_count": 147,
   "id": "2aa8711b-a029-4a1b-bb76-37614b5a248a",
   "metadata": {},
   "outputs": [
    {
     "data": {
      "text/plain": [
       "[56, -67, 45, 89, 0, 45, -1, -23, -24, -78]"
      ]
     },
     "execution_count": 147,
     "metadata": {},
     "output_type": "execute_result"
    }
   ],
   "source": [
    "lst"
   ]
  },
  {
   "cell_type": "code",
   "execution_count": 149,
   "id": "11336c2d-07bf-4dfa-90fb-9aca47b01bfd",
   "metadata": {},
   "outputs": [
    {
     "data": {
      "text/plain": [
       "[56, 45, 89, 45]"
      ]
     },
     "execution_count": 149,
     "metadata": {},
     "output_type": "execute_result"
    }
   ],
   "source": [
    "list(filter(positive,lst))"
   ]
  },
  {
   "cell_type": "code",
   "execution_count": 151,
   "id": "4e13400d-5f1d-4df2-b9d0-58e687540ae2",
   "metadata": {},
   "outputs": [],
   "source": [
    "def nigative(number):\n",
    "    if number <=0:\n",
    "        return number"
   ]
  },
  {
   "cell_type": "code",
   "execution_count": 153,
   "id": "b13a9b64-3f59-4f99-aa54-b43158ae4843",
   "metadata": {},
   "outputs": [
    {
     "data": {
      "text/plain": [
       "[56, -67, 45, 89, 0, 45, -1, -23, -24, -78]"
      ]
     },
     "execution_count": 153,
     "metadata": {},
     "output_type": "execute_result"
    }
   ],
   "source": [
    "lst"
   ]
  },
  {
   "cell_type": "code",
   "execution_count": 155,
   "id": "0e489857-dbb3-400b-bed8-1471d760cbd6",
   "metadata": {},
   "outputs": [
    {
     "data": {
      "text/plain": [
       "[-67, -1, -23, -24, -78]"
      ]
     },
     "execution_count": 155,
     "metadata": {},
     "output_type": "execute_result"
    }
   ],
   "source": [
    "list(filter(nigative,lst))"
   ]
  },
  {
   "cell_type": "code",
   "execution_count": 157,
   "id": "f23ef30b-ed99-4999-86ce-f8d9dbaca302",
   "metadata": {},
   "outputs": [],
   "source": [
    "def positive(number):\n",
    "    if number >=0:\n",
    "        return number\n",
    "    else:\n",
    "        return number <=0"
   ]
  },
  {
   "cell_type": "code",
   "execution_count": 159,
   "id": "d03a3d98-c2b0-4167-981c-ae9e2427a938",
   "metadata": {},
   "outputs": [
    {
     "data": {
      "text/plain": [
       "[56, -67, 45, 89, 45, -1, -23, -24, -78]"
      ]
     },
     "execution_count": 159,
     "metadata": {},
     "output_type": "execute_result"
    }
   ],
   "source": [
    "list(filter(positive,lst))"
   ]
  },
  {
   "cell_type": "code",
   "execution_count": 161,
   "id": "6c546414-78d7-41ec-aeea-d02c0b47276b",
   "metadata": {},
   "outputs": [],
   "source": [
    "# diffrance between lambada function and user define function."
   ]
  },
  {
   "cell_type": "code",
   "execution_count": 163,
   "id": "55adedf1-cc0a-4567-82cf-078a3963ce2a",
   "metadata": {},
   "outputs": [],
   "source": [
    "# diffrance between filter and map function."
   ]
  },
  {
   "cell_type": "code",
   "execution_count": 165,
   "id": "db6ab32d-7281-4741-9c32-504aaad3fa82",
   "metadata": {},
   "outputs": [
    {
     "name": "stdout",
     "output_type": "stream",
     "text": [
      "1 2 3 4 5 6 7 8 9 10 11 12 13 14 15 16 17 18 19 20 21 22 23 24 25 26 27 28 29 30 31 32 33 34 35 36 37 38 39 40 41 42 43 44 45 46 47 48 49 50\n"
     ]
    }
   ],
   "source": [
    "lst = list(range(1,51))\n",
    "print(*lst)"
   ]
  },
  {
   "cell_type": "code",
   "execution_count": 167,
   "id": "e64285d2-9cae-467c-980c-2a033c783c43",
   "metadata": {},
   "outputs": [
    {
     "data": {
      "text/plain": [
       "['Charger', 'mobile', 'laptop', 'wire', 'mouse']"
      ]
     },
     "execution_count": 167,
     "metadata": {},
     "output_type": "execute_result"
    }
   ],
   "source": [
    "names = ['Charger','mobile','laptop','wire','mouse']\n",
    "names"
   ]
  },
  {
   "cell_type": "code",
   "execution_count": 169,
   "id": "d306bd3e-85b9-427e-ae23-b00497d9ca4d",
   "metadata": {},
   "outputs": [],
   "source": [
    "def even_number(number):\n",
    "    if number % 2 == 0:\n",
    "        return number"
   ]
  },
  {
   "cell_type": "code",
   "execution_count": 171,
   "id": "e51c64b8-0378-4e49-87ea-87f18fb8d77a",
   "metadata": {},
   "outputs": [
    {
     "data": {
      "text/plain": [
       "[2,\n",
       " 4,\n",
       " 6,\n",
       " 8,\n",
       " 10,\n",
       " 12,\n",
       " 14,\n",
       " 16,\n",
       " 18,\n",
       " 20,\n",
       " 22,\n",
       " 24,\n",
       " 26,\n",
       " 28,\n",
       " 30,\n",
       " 32,\n",
       " 34,\n",
       " 36,\n",
       " 38,\n",
       " 40,\n",
       " 42,\n",
       " 44,\n",
       " 46,\n",
       " 48,\n",
       " 50]"
      ]
     },
     "execution_count": 171,
     "metadata": {},
     "output_type": "execute_result"
    }
   ],
   "source": [
    "abc = list(filter(even_number,lst))\n",
    "abc"
   ]
  },
  {
   "cell_type": "code",
   "execution_count": 173,
   "id": "9b500a3c-3ac6-4b3a-a090-5eb3bd6737ee",
   "metadata": {},
   "outputs": [],
   "source": [
    "def filter_len(word):\n",
    "    if len(word) > 5:\n",
    "        return word"
   ]
  },
  {
   "cell_type": "code",
   "execution_count": 175,
   "id": "aa2a1306-650b-4f15-bee6-0a8ae27541f5",
   "metadata": {},
   "outputs": [
    {
     "data": {
      "text/plain": [
       "['Charger', 'mobile', 'laptop']"
      ]
     },
     "execution_count": 175,
     "metadata": {},
     "output_type": "execute_result"
    }
   ],
   "source": [
    "list(filter(filter_len,names))"
   ]
  },
  {
   "cell_type": "markdown",
   "id": "b9eb180a-777a-47be-8d6c-50f5426f9e04",
   "metadata": {},
   "source": [
    "# Filter With Lambda."
   ]
  },
  {
   "cell_type": "code",
   "execution_count": null,
   "id": "8777a789-a8de-4b3d-8938-771f2b0394db",
   "metadata": {},
   "outputs": [],
   "source": [
    "emails = ['ankita@gmail.com','nikita@gmil.com','rahul@yahoo.com','pooja@gmail.com']\n",
    "emails"
   ]
  },
  {
   "cell_type": "code",
   "execution_count": null,
   "id": "dc813a88-49ce-45b8-a641-a551328237a8",
   "metadata": {},
   "outputs": [],
   "source": [
    "list(filter(lambda x : x.endswith('gmail.com'),emails))"
   ]
  },
  {
   "cell_type": "code",
   "execution_count": null,
   "id": "48fd0180-d8fd-4ed4-9690-b56e797bec35",
   "metadata": {},
   "outputs": [],
   "source": [
    "# getting same output with user defined function.\n",
    "\n",
    "def gmail_id(x):\n",
    "    if x.endswith('gmail.com'):\n",
    "        return x"
   ]
  },
  {
   "cell_type": "code",
   "execution_count": null,
   "id": "d323412b-a150-424c-840a-f640045e08fd",
   "metadata": {},
   "outputs": [],
   "source": [
    "list(filter(gmail_id,emails))"
   ]
  },
  {
   "cell_type": "code",
   "execution_count": null,
   "id": "2da054ae-899d-4b3d-851e-9944417196c0",
   "metadata": {},
   "outputs": [],
   "source": [
    "# get only even number from a list.\n",
    "\n",
    "lst = list(range(1,51))\n",
    "print(*lst)"
   ]
  },
  {
   "cell_type": "code",
   "execution_count": null,
   "id": "74031c25-03ea-472f-8b37-dcc9c104b2a5",
   "metadata": {},
   "outputs": [],
   "source": [
    "list(filter(lambda x : x % 2 ==0, lst))"
   ]
  },
  {
   "cell_type": "markdown",
   "id": "753f6774-eb47-48f2-ad3b-24cc67d3c78a",
   "metadata": {},
   "source": [
    "# Map with Lambda."
   ]
  },
  {
   "cell_type": "code",
   "execution_count": null,
   "id": "97cdec06-ce11-43e4-9a7a-cc3104a9ea9c",
   "metadata": {},
   "outputs": [],
   "source": [
    "# Capitalize the first letter  of each names.\n",
    "\n",
    "names"
   ]
  },
  {
   "cell_type": "code",
   "execution_count": null,
   "id": "baaf8059-2037-48a5-8cc1-6644b42a3cd1",
   "metadata": {},
   "outputs": [],
   "source": [
    "lambda x : x.capitalize()"
   ]
  },
  {
   "cell_type": "code",
   "execution_count": null,
   "id": "03210989-6d0c-4123-91c2-da2bbcf883e4",
   "metadata": {},
   "outputs": [],
   "source": [
    "list(map(lambda x : x.capitalize(),names))"
   ]
  },
  {
   "cell_type": "code",
   "execution_count": null,
   "id": "d1f45c4f-e9c9-4db3-bf3e-11d619ea6f22",
   "metadata": {},
   "outputs": [],
   "source": [
    "list(map(lambda x : len(x),names))"
   ]
  },
  {
   "cell_type": "code",
   "execution_count": null,
   "id": "0d813344-edae-46d6-b123-eb2c3eafdbe6",
   "metadata": {},
   "outputs": [],
   "source": [
    "#  add currency symbol to price.\n",
    "\n",
    "prices = [34,56,67,78,89,45]\n",
    "prices"
   ]
  },
  {
   "cell_type": "code",
   "execution_count": null,
   "id": "b87510e7-6377-4214-a9dd-c8fe5592ebd0",
   "metadata": {},
   "outputs": [],
   "source": [
    "list(map(lambda x :f\"${x}\",prices))"
   ]
  },
  {
   "cell_type": "code",
   "execution_count": null,
   "id": "836899c4-7b6f-489b-bcfb-c4035184f0f6",
   "metadata": {},
   "outputs": [],
   "source": [
    "# Extract just first name from list of customer names.\n",
    "\n",
    "names = ['Nikita jadhav','priya kumar','sumit kale','manasi mahajan']\n",
    "names"
   ]
  },
  {
   "cell_type": "code",
   "execution_count": null,
   "id": "bc624978-ba7b-485f-a31a-7e4e4c3bbe93",
   "metadata": {},
   "outputs": [],
   "source": [
    "list(map(lambda x : x.split()[0],names))"
   ]
  },
  {
   "cell_type": "markdown",
   "id": "19ac9957-2d04-47f5-b062-254fcc3a0718",
   "metadata": {},
   "source": [
    "# Exception Handling."
   ]
  },
  {
   "cell_type": "code",
   "execution_count": 236,
   "id": "9cc33eef-a44b-4abb-9441-1246fcfd904a",
   "metadata": {},
   "outputs": [
    {
     "name": "stdin",
     "output_type": "stream",
     "text": [
      " 21\n",
      " 23\n"
     ]
    }
   ],
   "source": [
    "# zero dividion error\n",
    "num1 = int(input())\n",
    "num2 = int(input())"
   ]
  },
  {
   "cell_type": "code",
   "execution_count": 238,
   "id": "a1d8eacc-ad32-4726-9ce3-ed4b22f3928c",
   "metadata": {},
   "outputs": [
    {
     "data": {
      "text/plain": [
       "0.9130434782608695"
      ]
     },
     "execution_count": 238,
     "metadata": {},
     "output_type": "execute_result"
    }
   ],
   "source": [
    "num1/num2"
   ]
  },
  {
   "cell_type": "code",
   "execution_count": 240,
   "id": "5d91aa17-db1c-4ea3-b051-5e46cad03e27",
   "metadata": {},
   "outputs": [
    {
     "ename": "IndentationError",
     "evalue": "expected an indented block after 'try' statement on line 1 (162448469.py, line 3)",
     "output_type": "error",
     "traceback": [
      "\u001b[1;36m  Cell \u001b[1;32mIn[240], line 3\u001b[1;36m\u001b[0m\n\u001b[1;33m    except:\u001b[0m\n\u001b[1;37m    ^\u001b[0m\n\u001b[1;31mIndentationError\u001b[0m\u001b[1;31m:\u001b[0m expected an indented block after 'try' statement on line 1\n"
     ]
    }
   ],
   "source": [
    "try:\n",
    "    #risky code\n",
    "except:\n",
    "    #Exception"
   ]
  },
  {
   "cell_type": "code",
   "execution_count": null,
   "id": "b235ff49-2c8b-4c4d-8d11-17e8d6fb9708",
   "metadata": {},
   "outputs": [],
   "source": [
    "try:\n",
    "    bill = 6000\n",
    "    people = int(input('How many people were there? '))\n",
    "    contri = bill/people\n",
    "    print(f\" The per head Contribution will be {Contri}\")\n",
    "except:\n",
    "    print('Cannot divide the bill with 0 people!')"
   ]
  },
  {
   "cell_type": "code",
   "execution_count": 476,
   "id": "c41199fc-cd44-484a-915a-053fe7a8a03c",
   "metadata": {},
   "outputs": [
    {
     "name": "stdin",
     "output_type": "stream",
     "text": [
      "How many people were there?  four\n"
     ]
    },
    {
     "ename": "ValueError",
     "evalue": "invalid literal for int() with base 10: 'four'",
     "output_type": "error",
     "traceback": [
      "\u001b[1;31m---------------------------------------------------------------------------\u001b[0m",
      "\u001b[1;31mValueError\u001b[0m                                Traceback (most recent call last)",
      "Cell \u001b[1;32mIn[476], line 3\u001b[0m\n\u001b[0;32m      1\u001b[0m \u001b[38;5;28;01mtry\u001b[39;00m:\n\u001b[0;32m      2\u001b[0m     bill \u001b[38;5;241m=\u001b[39m \u001b[38;5;241m6000\u001b[39m\n\u001b[1;32m----> 3\u001b[0m     people \u001b[38;5;241m=\u001b[39m \u001b[38;5;28mint\u001b[39m(\u001b[38;5;28minput\u001b[39m(\u001b[38;5;124m'\u001b[39m\u001b[38;5;124mHow many people were there? \u001b[39m\u001b[38;5;124m'\u001b[39m))\n\u001b[0;32m      4\u001b[0m     contri \u001b[38;5;241m=\u001b[39m bill\u001b[38;5;241m/\u001b[39mpeople\n\u001b[0;32m      5\u001b[0m     \u001b[38;5;28mprint\u001b[39m(\u001b[38;5;124mf\u001b[39m\u001b[38;5;124m\"\u001b[39m\u001b[38;5;124m The per head Contribution will be \u001b[39m\u001b[38;5;132;01m{\u001b[39;00mContri\u001b[38;5;132;01m}\u001b[39;00m\u001b[38;5;124m\"\u001b[39m)\n",
      "\u001b[1;31mValueError\u001b[0m: invalid literal for int() with base 10: 'four'"
     ]
    }
   ],
   "source": [
    "try:\n",
    "    bill = 6000\n",
    "    people = int(input('How many people were there? '))\n",
    "    contri = bill/people\n",
    "    print(f\" The per head Contribution will be {Contri}\")\n",
    "except ZeroDivisionError :\n",
    "    print('Cannot divide the bill with 0 people!')\n",
    "    "
   ]
  },
  {
   "cell_type": "code",
   "execution_count": 478,
   "id": "4c084a70-d9d0-4929-9896-4b0c0125287a",
   "metadata": {},
   "outputs": [
    {
     "name": "stdin",
     "output_type": "stream",
     "text": [
      "How many people were there?  four\n"
     ]
    },
    {
     "ename": "ValueError",
     "evalue": "invalid literal for int() with base 10: 'four'",
     "output_type": "error",
     "traceback": [
      "\u001b[1;31m---------------------------------------------------------------------------\u001b[0m",
      "\u001b[1;31mValueError\u001b[0m                                Traceback (most recent call last)",
      "Cell \u001b[1;32mIn[478], line 3\u001b[0m\n\u001b[0;32m      1\u001b[0m \u001b[38;5;28;01mtry\u001b[39;00m:\n\u001b[0;32m      2\u001b[0m     bill \u001b[38;5;241m=\u001b[39m \u001b[38;5;241m6000\u001b[39m\n\u001b[1;32m----> 3\u001b[0m     people \u001b[38;5;241m=\u001b[39m \u001b[38;5;28mint\u001b[39m(\u001b[38;5;28minput\u001b[39m(\u001b[38;5;124m'\u001b[39m\u001b[38;5;124mHow many people were there? \u001b[39m\u001b[38;5;124m'\u001b[39m))\n\u001b[0;32m      4\u001b[0m     contri \u001b[38;5;241m=\u001b[39m bill\u001b[38;5;241m/\u001b[39mpeople\n\u001b[0;32m      5\u001b[0m     \u001b[38;5;28mprint\u001b[39m(\u001b[38;5;124mf\u001b[39m\u001b[38;5;124m\"\u001b[39m\u001b[38;5;124m The per head Contribution will be \u001b[39m\u001b[38;5;132;01m{\u001b[39;00mContri\u001b[38;5;132;01m}\u001b[39;00m\u001b[38;5;124m\"\u001b[39m)\n",
      "\u001b[1;31mValueError\u001b[0m: invalid literal for int() with base 10: 'four'"
     ]
    }
   ],
   "source": [
    "try:\n",
    "    bill = 6000\n",
    "    people = int(input('How many people were there? '))\n",
    "    contri = bill/people\n",
    "    print(f\" The per head Contribution will be {Contri}\")\n",
    "except ZeroDivisionError as e :   #alising in python\n",
    "    print(e)\n",
    "    print('Cannot divide the bill with 0 people!')"
   ]
  },
  {
   "cell_type": "code",
   "execution_count": 480,
   "id": "33089ef2-58be-48a5-afe2-db99f4e88fb0",
   "metadata": {},
   "outputs": [
    {
     "name": "stdin",
     "output_type": "stream",
     "text": [
      "Enter your age:  22\n"
     ]
    },
    {
     "name": "stdout",
     "output_type": "stream",
     "text": [
      "22\n"
     ]
    }
   ],
   "source": [
    "# value error\n",
    "try:\n",
    "    age = int(input('Enter your age: '))\n",
    "    print(age)\n",
    "except ValueError:\n",
    "    print('Give age in numerical format!')"
   ]
  },
  {
   "cell_type": "code",
   "execution_count": 482,
   "id": "22a0f002-75cf-4c41-b2f0-cd95cc2c9f98",
   "metadata": {},
   "outputs": [],
   "source": [
    "# Index error"
   ]
  }
 ],
 "metadata": {
  "kernelspec": {
   "display_name": "Python [conda env:base] *",
   "language": "python",
   "name": "conda-base-py"
  },
  "language_info": {
   "codemirror_mode": {
    "name": "ipython",
    "version": 3
   },
   "file_extension": ".py",
   "mimetype": "text/x-python",
   "name": "python",
   "nbconvert_exporter": "python",
   "pygments_lexer": "ipython3",
   "version": "3.12.7"
  }
 },
 "nbformat": 4,
 "nbformat_minor": 5
}
